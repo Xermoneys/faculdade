{
 "cells": [
  {
   "cell_type": "markdown",
   "id": "e5938dcd",
   "metadata": {},
   "source": [
    "# Dicionários\n",
    "\n",
    "- O Dicionário é uma estrutura de dados\n",
    "- Estruturas de dados são maneiras de organizar os dados\n",
    "- Listas e Tuplas também são estruturas de dados\n",
    "- Dicionários (em Python) são vetores associativos\n",
    "- Vetores associativos são coleções desordenadas de dados\n",
    "- São usadas para armazenar valores como um mapa por meio de elementos formados pelo par `chave` e `valor`.\n",
    "- Assim, diferentemente das listas ou tuplas, que contém um único valor como elemento, o dicionário contém o par `chave:valor` (`key:value`)\n",
    "    - Chave (key): serve para deixar o dicionário otimizado\n",
    "    - Valor (value): valor do elemento associado a uma chave\n",
    "- Dicionários diferem das listas essencialmente na maneira como os elementos são acessados:\n",
    "- Listas: valores são acessados por sua posição dentro da lista, via índice\n",
    "- Dicionários: valores são acessados por meio de suas chaves\n",
    " (keys\n",
    "- Um dicionário em Python funciona de forma semelhante ao dicionário de palavras:\n",
    "- As chaves (keys) de um dicionário devem ser exclusivas e com o tipo de dados imutáveis, como strings, inteiros ou tuplas\n",
    "- Porém, os valores (values) associados às chaves podem ser repetidos e de qualquer tipo\n",
    "- Para criarmos um dicionário, devemos incluir uma sequência de elementos dentro de chaves { }, separados por vírgula.\n",
    "- A chave e o valor são separados por dois pontos:\n",
    "- Cada elemento do dicionário é um par compost por chave (key) e valor (value).\n",
    "\n",
    "```python\n",
    "d = {\n",
    "    <chave1>:<valor1>,\n",
    "    <chave2>:<valor2>,\n",
    "    <chave3>:<valor3>\n",
    "}\n",
    "```\n",
    "\n",
    "Um exemplo de dicionário é apresentado a seguir:\n",
    "\n",
    "```python\n",
    "dicionario = {\n",
    "    1 : \"Exemplo\",\n",
    "    2 : \"de\",\n",
    "    3: \"dicionário\",\n",
    "}\n",
    "```"
   ]
  },
  {
   "cell_type": "markdown",
   "id": "5511079f",
   "metadata": {},
   "source": [
    "## Exemplos"
   ]
  },
  {
   "cell_type": "code",
   "execution_count": 1,
   "id": "58dba358",
   "metadata": {},
   "outputs": [
    {
     "name": "stdout",
     "output_type": "stream",
     "text": [
      "{1: 'Exemplo', 2: 'de', 3: 'dicionário'}\n"
     ]
    }
   ],
   "source": [
    "# Exemplo de dicionário em Python\n",
    "dicionario = {\n",
    "    1 : \"Exemplo\",\n",
    "    2 : \"de\",\n",
    "    3 : \"dicionário\",\n",
    "}\n",
    "print(dicionario)"
   ]
  },
  {
   "cell_type": "code",
   "execution_count": 4,
   "id": "9fa11fef",
   "metadata": {},
   "outputs": [
    {
     "name": "stdout",
     "output_type": "stream",
     "text": [
      "{'nome': 'Fulano', 5: 'Cinco', 'lista': [1, 2, 4]}\n",
      "[1, 2, 4]\n"
     ]
    }
   ],
   "source": [
    "# Exemplo de dicionário com chaves de tipos diferentes\n",
    "\n",
    "teste = {\n",
    "    \"nome\": \"Fulano\",\n",
    "    5: \"Cinco\",\n",
    "    \"lista\": [1, 2, 4],\n",
    "}\n",
    "print(teste)\n",
    "print(teste[\"lista\"])"
   ]
  },
  {
   "cell_type": "code",
   "execution_count": 3,
   "id": "571109e3",
   "metadata": {},
   "outputs": [
    {
     "name": "stdout",
     "output_type": "stream",
     "text": [
      "one\n",
      "four\n"
     ]
    }
   ],
   "source": [
    "# Acessando os valores do dicionário\n",
    "ingles = {\n",
    "    \"um\": \"one\",\n",
    "    \"dois\": \"two\",\n",
    "    \"tres\": \"three\",\n",
    "    \"quatro\": \"four\",\n",
    "    \"cinco\": \"five\",\n",
    "}\n",
    "\n",
    "print(ingles[\"um\"])\n",
    "print(ingles[\"quatro\"])"
   ]
  },
  {
   "cell_type": "code",
   "execution_count": 5,
   "id": "7b2c954d",
   "metadata": {},
   "outputs": [
    {
     "name": "stdout",
     "output_type": "stream",
     "text": [
      "one\n",
      "four\n"
     ]
    }
   ],
   "source": [
    "# Acessando os valores do dicionário\n",
    "ingles_num = {\n",
    "    1: \"one\",\n",
    "    2: \"two\",\n",
    "    3: \"three\",\n",
    "    4: \"four\",\n",
    "    5: \"five\",\n",
    "}\n",
    "print(ingles_num[1])\n",
    "print(ingles_num[4])"
   ]
  },
  {
   "cell_type": "code",
   "execution_count": 6,
   "id": "9c3fe936",
   "metadata": {},
   "outputs": [
    {
     "name": "stdout",
     "output_type": "stream",
     "text": [
      "one\n",
      "four\n"
     ]
    }
   ],
   "source": [
    "# Também podemos usar o método get() para acessar os valores\n",
    "ingles_num = {\n",
    "    1: \"one\",\n",
    "    2: \"two\",\n",
    "    3: \"three\",\n",
    "    4: \"four\",\n",
    "    5: \"five\",\n",
    "}\n",
    "print(ingles_num.get(1))\n",
    "print(ingles_num.get(4))"
   ]
  },
  {
   "cell_type": "code",
   "execution_count": 13,
   "id": "e27383a8",
   "metadata": {},
   "outputs": [
    {
     "name": "stdout",
     "output_type": "stream",
     "text": [
      "{1: 'one', 2: 'two', 3: 'three', 4: 'four', 5: 'five'}\n",
      "four\n"
     ]
    }
   ],
   "source": [
    "# Para adicionar elementos ao dicionário, basta usar a chave e atribuir um valor\n",
    "ingles_num = {\n",
    "    1: \"one\",\n",
    "    2: \"two\",\n",
    "    3: \"three\",\n",
    "    4: \"four\",\n",
    "    5: \"five\",\n",
    "}\n",
    "print(ingles_num)\n",
    "ingles_num[6] = \"six\"\n",
    "print(ingles_num[4])"
   ]
  },
  {
   "cell_type": "code",
   "execution_count": 15,
   "id": "2dd8f7a1",
   "metadata": {},
   "outputs": [
    {
     "name": "stdout",
     "output_type": "stream",
     "text": [
      "{1: 'one', 2: 'two', 3: 'three', 4: 'four', 5: 'five'}\n",
      "{1: 'one', 2: 'two', 4: 'four', 5: 'five'}\n",
      "five\n"
     ]
    }
   ],
   "source": [
    "# Para remover um elemento do dicionário, usamos o comando del\n",
    "ingles_num = {\n",
    "    1: \"one\",\n",
    "    2: \"two\",\n",
    "    3: \"three\",\n",
    "    4: \"four\",\n",
    "    5: \"five\",\n",
    "}\n",
    "print(ingles_num)\n",
    "del ingles_num[3]\n",
    "print(ingles_num)\n",
    "print(ingles_num.get(5))"
   ]
  },
  {
   "cell_type": "code",
   "execution_count": 19,
   "id": "49002693",
   "metadata": {},
   "outputs": [
    {
     "name": "stdout",
     "output_type": "stream",
     "text": [
      "[('um', 'exemplo de a'), ('dois', 'de'), ('tres', 'dicionário')]\n"
     ]
    }
   ],
   "source": [
    "# O método items() retorna uma lista de tuplas, onde cada tupla contém uma chave e seu respectivo valor\n",
    "\n",
    "dicionario = {\n",
    "    \"um\": \"exemplo\",\n",
    "    \"dois\": \"de\",\n",
    "    \"tres\": \"dicionário\",\n",
    "}\n",
    "d = dicionario.items()\n",
    "d = list(d)\n",
    "print(d)"
   ]
  },
  {
   "cell_type": "code",
   "execution_count": 20,
   "id": "031addac",
   "metadata": {},
   "outputs": [
    {
     "name": "stdout",
     "output_type": "stream",
     "text": [
      "['um', 'dois', 'tres']\n"
     ]
    }
   ],
   "source": [
    "# O método keys() retorna uma lista com as chaves do dicionário\n",
    "dicionario = {\n",
    "    \"um\": \"exemplo\",\n",
    "    \"dois\": \"de\",\n",
    "    \"tres\": \"dicionário\",\n",
    "}\n",
    "d = dicionario.keys()\n",
    "d = list(d)\n",
    "print(d)"
   ]
  },
  {
   "cell_type": "code",
   "execution_count": null,
   "id": "ef419a62",
   "metadata": {},
   "outputs": [],
   "source": [
    "# O método values() retorna uma lista com os valores do dicionário\n",
    "dicionario = {\n",
    "    \"um\": \"exemplo\",\n",
    "    \"dois\": \"de\",\n",
    "    \"tres\": \"dicionário\",\n",
    "}\n",
    "d = dicionario.values()\n",
    "d = list(d)\n",
    "print(d)"
   ]
  },
  {
   "cell_type": "code",
   "execution_count": 21,
   "id": "e7b6b786",
   "metadata": {},
   "outputs": [
    {
     "name": "stdout",
     "output_type": "stream",
     "text": [
      "um\n",
      "dois\n",
      "tres\n",
      "\n",
      "exemplo\n",
      "de\n",
      "dicionário\n"
     ]
    }
   ],
   "source": [
    "# Poremos utilizar o método keys() e values() para iterar sobre o dicionário\n",
    "\n",
    "dicionario = {\n",
    "    \"um\": \"exemplo\",\n",
    "    \"dois\": \"de\",\n",
    "    \"tres\": \"dicionário\",\n",
    "}\n",
    "\n",
    "for chave in dicionario.keys():\n",
    "    print(chave)\n",
    "    \n",
    "print()\n",
    "\n",
    "for valor in dicionario.values():\n",
    "    print(valor)"
   ]
  },
  {
   "cell_type": "markdown",
   "id": "4b88b3d9",
   "metadata": {},
   "source": [
    "## Exercícios"
   ]
  },
  {
   "cell_type": "code",
   "execution_count": 45,
   "id": "51e31d0c",
   "metadata": {},
   "outputs": [
    {
     "name": "stdout",
     "output_type": "stream",
     "text": [
      "Dicionário:  {'alpha': 1, 'bravo': 2, 'charlie': 1, 'delta': 3, 'echo': 1}\n",
      "Chaves associadas ao valor 2: ['bravo'].\n"
     ]
    }
   ],
   "source": [
    "# Exercício 1. Escreva uma função chamada procuraChave que encontre todas as\n",
    "# chaves, em um dicionário, que estão associadas a um valor\n",
    "# específico.\n",
    "# A função receberá o dicionário e o valor a procurar como seus\n",
    "# únicos parâmetros.\n",
    "# A função retornará uma lista (possivelmente vazia) de chaves\n",
    "# associadas ao valor fornecido.\n",
    "# Faça um programa principal que mostra o funcionamento da\n",
    "# função.\n",
    "# Seu programa principal deve criar um dicionário e mostrar que\n",
    "# a função procuraChave funciona corretamente quando retorna\n",
    "# várias chaves, uma única chave ou nenhuma chave.\n",
    "\n",
    "dicionario = {\n",
    "    \"alpha\": 1,\n",
    "    \"bravo\" : 2,\n",
    "    \"charlie\": 1,\n",
    "    \"delta\" : 3,    \n",
    "    \"echo\" : 1,\n",
    "    }\n",
    "\n",
    "def main():\n",
    "    print(\"Dicionário: \",dicionario)\n",
    "    n = int(input(\"Digite o valor a procurar: \"))\n",
    "    chaves = procuraChave(dicionario, n)\n",
    "    print(f\"Chaves associadas ao valor {n}: {chaves}.\")\n",
    "\n",
    "def procuraChave(dicionario,valor):\n",
    "    chaves = []\n",
    "    for chave, val in dicionario.items():\n",
    "        if val == valor:\n",
    "            chaves.append(chave)\n",
    "    return chaves\n",
    "\n",
    "if __name__ == \"__main__\":\n",
    "    main()\n"
   ]
  },
  {
   "cell_type": "code",
   "execution_count": 54,
   "id": "2f2eeb62",
   "metadata": {},
   "outputs": [
    {
     "name": "stdout",
     "output_type": "stream",
     "text": [
      "0 : 4\n",
      "1 : 4\n",
      "2 : 7\n",
      "3 : 1\n",
      "4 : 2\n",
      "5 : 8\n",
      "6 : 3\n",
      "7 : 7\n",
      "8 : 4\n",
      "9 : 8\n",
      "10 : 4\n",
      "11 : 6\n",
      "12 : 6\n",
      "13 : 6\n",
      "14 : 8\n",
      "15 : 4\n",
      "16 : 3\n",
      "17 : 1\n",
      "18 : 7\n",
      "19 : 2\n",
      "20 : 5\n",
      "True\n"
     ]
    }
   ],
   "source": [
    "# Exercício 2. Faça um programa que gere 100 números aleatórios\n",
    "# Gere números no intervalo de 0 à 20\n",
    "# Mostre quantas vezes cada número apareceu\n",
    "# Dica:\n",
    "# Utilize um dicionário para armazenar o número como chave\n",
    "# e a quantidade de vezes em que ele aparece como valor\n",
    "\n",
    "from random import randint\n",
    "lista = [randint(0,20)for _ in range(100)]\n",
    "\n",
    "dicionario = {}\n",
    "for elemento in lista:\n",
    "    if elemento in dicionario:\n",
    "        dicionario[elemento] += 1\n",
    "    else: \n",
    "        dicionario[elemento] = 1\n",
    "dicionario = dict(sorted(dicionario.items()))\n",
    "\n",
    "for chave, valor in dicionario.items():\n",
    "    print(f\"{chave} : {valor}\")\n",
    "    \n",
    "\n",
    "print(lista.count(0) == dicionario[0])"
   ]
  },
  {
   "cell_type": "code",
   "execution_count": 62,
   "id": "8efdb158",
   "metadata": {},
   "outputs": [
    {
     "name": "stdout",
     "output_type": "stream",
     "text": [
      "\n",
      "Tabela de resultados:\n",
      "Resultado 2: 29 vezes,2.90%\n",
      "Resultado 3: 59 vezes,5.90%\n",
      "Resultado 4: 77 vezes,7.70%\n",
      "Resultado 5: 131 vezes,13.10%\n",
      "Resultado 6: 143 vezes,14.30%\n",
      "Resultado 7: 170 vezes,17.00%\n",
      "Resultado 8: 144 vezes,14.40%\n",
      "Resultado 9: 95 vezes,9.50%\n",
      "Resultado 10: 77 vezes,7.70%\n",
      "Resultado 11: 56 vezes,5.60%\n",
      "Resultado 12: 19 vezes,1.90%\n"
     ]
    }
   ],
   "source": [
    "# Exercício 3. Neste exercício, você simulará 1000 lançamentos de dois dados.\n",
    "# Comece escrevendo uma função que simula o lançamento de um par\n",
    "# de dados de seis lados cada.\n",
    "# Sua função não deve aceitar nenhum parâmetro.\n",
    "# Ela retornará a somatória obtida pelos dois dados.\n",
    "# Escreva um programa principal que use sua função para simular\n",
    "# 1000 lançamentos de dois dados.\n",
    "# Como acontece em alguns programas, você deve contar o número\n",
    "# de vezes que cada somatória acontece.\n",
    "# Em seguida, a função principal deve exibir uma tabela que\n",
    "# resume esses resultados.\n",
    "# Mostre a frequência para cada resultado como uma porcentagem\n",
    "# do número total de lançamentos.\n",
    "\n",
    "from random import randint\n",
    "\n",
    "def lancar_dados():\n",
    "    return randint(1,6) + randint(1,6)\n",
    "\n",
    "def main():\n",
    "    LANCAMENTOS = 1000\n",
    "    lancamentos = [lancar_dados() for _ in range(LANCAMENTOS)]\n",
    "    frequencias = {}\n",
    "\n",
    "    for resultado in lancamentos:\n",
    "        if resultado in frequencias:\n",
    "            frequencias[resultado] += 1\n",
    "        else:\n",
    "            frequencias[resultado] = 1\n",
    "\n",
    "    print(\"\\nTabela de resultados:\")\n",
    "    for resultado, contagem in sorted(frequencias.items()):\n",
    "        porcentagem = (contagem / LANCAMENTOS) * 100\n",
    "        print(f\"Resultado {resultado}: {contagem} vezes,{porcentagem:.2f}%\")\n",
    "\n",
    "if __name__ == \"__main__\":\n",
    "    main()"
   ]
  },
  {
   "cell_type": "code",
   "execution_count": 65,
   "id": "b328948c",
   "metadata": {},
   "outputs": [
    {
     "name": "stdout",
     "output_type": "stream",
     "text": [
      "A string 'Hello,world' tem 1 caracter\n",
      "A string 'zzz' tem 1 caracter\n"
     ]
    }
   ],
   "source": [
    "# Exercício 4. Crie uma função que retorna o número de caracteres únicos em\n",
    "# uma string criada pelo usuário.\n",
    "# Por exemplo:\n",
    "# “Hello, World!” tem 10 caracteres únicos\n",
    "# enquanto zzz tem somente 1 caractere único.\n",
    "# Use um dicionário para resolver este problema.\n",
    "\n",
    "        return len(dicionario)\n",
    "def contar_caracteres(string):\n",
    "    dicionario = {}\n",
    "    for char in string:\n",
    "        if char not in dicionario:\n",
    "            dicionario [char] = 1\n",
    "    \n",
    "string1 = \"Hello,world\"\n",
    "string2 = \"zzz\"\n",
    "print(f\"A string '{string1}' tem {contar_caracteres(string1)} caracter\")\n",
    "print(f\"A string '{string2}' tem {contar_caracteres(string2)} caracter\")"
   ]
  },
  {
   "cell_type": "code",
   "execution_count": null,
   "id": "4d3dd65a",
   "metadata": {},
   "outputs": [],
   "source": [
    "# Exercício 5. Duas palavras são anagramas se contiverem todas as mesmas\n",
    "# letras, mas em uma ordem diferente.\n",
    "# Por exemplo: estante e setenta são anagramas.\n",
    "# Crie uma função que recebe duas strings do usuário e determina\n",
    "# se elas são ou não anagramas.\n",
    "# Utilize dicionário para resolver o problema.\n"
   ]
  },
  {
   "cell_type": "code",
   "execution_count": null,
   "id": "9ddd4177",
   "metadata": {},
   "outputs": [],
   "source": [
    "# Exercício 6. Um cartão de bingo consiste de 5 colunas de 5 números. As\n",
    "# colunas são rotuladas com as letras B, I, N, G e O. Existem 15\n",
    "# números que podem aparecer na coluna de cada letra. Em\n",
    "# particular, os números que podem aparecer na coluna de B estão\n",
    "# no intervalo de 1 a 15, os números que podem aparecer sob o I\n",
    "# variam de 16 a 30 e assim por diante. Escreva uma função que\n",
    "# cria um cartão de Bingo com números aleatórios e armazena tudo\n",
    "# em um dicionário. As chaves serão as letras B, I, N, G e O.\n",
    "# Os valores serão as listas de cinco números que aparecem em\n",
    "# cada letra.\n"
   ]
  },
  {
   "cell_type": "code",
   "execution_count": null,
   "id": "a3fafcd1",
   "metadata": {},
   "outputs": [],
   "source": [
    "# Exercício 7. Escreva uma segunda função que exibe o cartão de Bingo com as\n",
    "# colunas identificadas adequadamente.\n",
    "# Use as funções para escrever um programa que exibe um cartão\n",
    "# aleatório. letra.\n"
   ]
  }
 ],
 "metadata": {
  "kernelspec": {
   "display_name": "base",
   "language": "python",
   "name": "python3"
  },
  "language_info": {
   "codemirror_mode": {
    "name": "ipython",
    "version": 3
   },
   "file_extension": ".py",
   "mimetype": "text/x-python",
   "name": "python",
   "nbconvert_exporter": "python",
   "pygments_lexer": "ipython3",
   "version": "3.12.7"
  }
 },
 "nbformat": 4,
 "nbformat_minor": 5
}
