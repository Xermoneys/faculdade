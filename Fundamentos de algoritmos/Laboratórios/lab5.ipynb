{
 "cells": [
  {
   "cell_type": "code",
   "execution_count": null,
   "id": "4a73e7bc",
   "metadata": {},
   "outputs": [
    {
     "name": "stdout",
     "output_type": "stream",
     "text": [
      "O maior número é:  6\n"
     ]
    }
   ],
   "source": [
    "#ex1\n",
    "quantidade_numeros = int(input(\"Entre com a quantidade de números que serão digitados: \"))\n",
    "numeros = []\n",
    "for i in range(quantidade_numeros):\n",
    "    numero = int(input(f\"número {i+1}: \"))\n",
    "    numeros.append(numero)\n",
    "\n",
    "print(\"O maior número é: \", max(numeros))"
   ]
  },
  {
   "cell_type": "code",
   "execution_count": null,
   "id": "eb6f02d9",
   "metadata": {},
   "outputs": [
    {
     "name": "stdout",
     "output_type": "stream",
     "text": [
      "E: 5\n"
     ]
    }
   ],
   "source": [
    "#ex2\n",
    "numero = int(input(\"Digite o número desejado: \"))\n",
    "if numero < 0:\n",
    "    print(\"Opção inválida tente novamente.\")\n",
    "else:\n",
    "    formula = 0\n",
    "    for i in range(1,numero + 1):\n",
    "        formula += i ** 2\n",
    "    print(f\"E: {formula}\")"
   ]
  },
  {
   "cell_type": "code",
   "execution_count": null,
   "id": "1204eacd",
   "metadata": {},
   "outputs": [
    {
     "name": "stdout",
     "output_type": "stream",
     "text": [
      "Total :23\n",
      "Total de coelhos: 10\n",
      "Total de ratos: 5\n",
      "Total de sapos8\n"
     ]
    }
   ],
   "source": [
    "#ex3\n",
    "contador_coelho = 0\n",
    "contador_rato = 0\n",
    "contador_sapo = 0\n",
    "total_cobaias = 0\n",
    "numero_teste = int(input(\"digite o nm teste: \"))\n",
    "\n",
    "for i in range(numero_teste):\n",
    "    cobaia = int(input(\"digite o nm de cobaias: \"))\n",
    "    tipo_cobaia = input(\"digite o tipo da cobaia: \")\n",
    "    if tipo_cobaia == \"C\":\n",
    "        contador_coelho += cobaia\n",
    "    elif tipo_cobaia == \"R\":\n",
    "        contador_rato += cobaia\n",
    "    elif tipo_cobaia == \"S\":\n",
    "        contador_sapo += cobaia\n",
    "\n",
    "total_cobaias = contador_coelho + contador_rato + contador_sapo\n",
    "percentual_coelhos = (contador_coelho/ total_cobaias) * 100\n",
    "percentual_ratos = (contador_rato / total_cobaias) * 100\n",
    "percentual_sapos = (contador_sapo / total_cobaias) * 100\n",
    "\n",
    "print(f\"Total: {total_cobaias} cobaias\")\n",
    "print(f\"Total de coelhos: {contador_coelho}\")\n",
    "print(f\"Total de ratos: {contador_rato}\")\n",
    "print(f\"Total de sapos: {contador_sapo}\")\n",
    "print(f\"Percentual de coelhos: {percentual_coelhos:.2f} %\")\n",
    "print(f\"Percentual de ratos: {percentual_ratos:.2f} %\")\n",
    "print(f\"Percentual de sapos: {percentual_sapos:.2f} %\")\n"
   ]
  },
  {
   "cell_type": "code",
   "execution_count": 2,
   "id": "bc515cd9",
   "metadata": {},
   "outputs": [
    {
     "name": "stdout",
     "output_type": "stream",
     "text": [
      "Salário de 2016: R$ 5540.89\n"
     ]
    }
   ],
   "source": [
    "#ex4\n",
    "ano = int(input(\"Digite o ano desejado: \"))\n",
    "if ano <= 2014:\n",
    "    print(\"Por favor digite um ano maior que 2015.\")\n",
    "else:\n",
    "    salario_inicial = 5000.00\n",
    "    if ano >= 2014:\n",
    "        salario_inicial += salario_inicial * 0.015\n",
    "    percentual_aumento = 0.015\n",
    "    for ano in range(2015, ano + 1):\n",
    "        percentual_aumento *= 2\n",
    "        salario_inicial += salario_inicial * percentual_aumento\n",
    "    print(f\"Salário de {ano}: R$ {salario_inicial:.2f}\")\n"
   ]
  }
 ],
 "metadata": {
  "kernelspec": {
   "display_name": "base",
   "language": "python",
   "name": "python3"
  },
  "language_info": {
   "codemirror_mode": {
    "name": "ipython",
    "version": 3
   },
   "file_extension": ".py",
   "mimetype": "text/x-python",
   "name": "python",
   "nbconvert_exporter": "python",
   "pygments_lexer": "ipython3",
   "version": "3.12.7"
  }
 },
 "nbformat": 4,
 "nbformat_minor": 5
}
