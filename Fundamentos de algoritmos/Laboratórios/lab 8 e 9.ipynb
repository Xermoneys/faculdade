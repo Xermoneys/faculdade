{
 "cells": [
  {
   "cell_type": "code",
   "execution_count": null,
   "id": "830267fe",
   "metadata": {},
   "outputs": [
    {
     "name": "stdout",
     "output_type": "stream",
     "text": [
      "2 3 4 5 5 "
     ]
    }
   ],
   "source": [
    "#ex 1-Qual será a saída do seguinte código em Python?\n",
    "a = [1,2,3,4,5]\n",
    "for i in range(1,5):\n",
    "    a[i-1] = a[i]\n",
    "for i in range(0,5):\n",
    "    print(a[i], end = \" \")"
   ]
  },
  {
   "cell_type": "code",
   "execution_count": null,
   "id": "e48bb1bc",
   "metadata": {},
   "outputs": [
    {
     "name": "stdout",
     "output_type": "stream",
     "text": [
      "3 4 2 4 2 "
     ]
    }
   ],
   "source": [
    "#ex 2 - Qual será a saída do seguinte código em Python?\n",
    "a = [1,2,3,4,5]\n",
    "for i in range(1,5):\n",
    "    a[i-2] = a[i]\n",
    "for i in range(0, 5):\n",
    "    print(a[i], end=\" \")"
   ]
  },
  {
   "cell_type": "code",
   "execution_count": null,
   "id": "5e773e9d",
   "metadata": {},
   "outputs": [],
   "source": [
    "#ex 3- Implemente uma função chamada media (Apenas a função) que retorna a media de uma lista, independente do tamanho da lista.\n",
    "def media(lista):\n",
    "    return sum(lista)/len(lista) if lista else 0"
   ]
  },
  {
   "cell_type": "code",
   "execution_count": null,
   "id": "267decec",
   "metadata": {},
   "outputs": [],
   "source": [
    "#ex4 - Faça um programa que leia uma a um modelos de cinco carros (exemplos: FUSCA, GOL, VECTRA etc) e os guarde em uma mesma lista. Leia (um a um) uma outra lista  com o consumo desses carros, isto é, quantos quilômetros cada um desses carros faz com um litro de combustível. Calcule e mostre:\n",
    "#- O modelo do carro mais econômico;\n",
    "#- Quantos litros de combustível cada um dos carros cadastrados consome para percorrer uma distância de 1000 quilômetros.\n",
    "\n",
    "carros = []\n",
    "consumos = []\n",
    "for i in range(5):\n",
    "    carro = input(\"\")\n",
    "    carros.append(carro)\n",
    "for j in range(5):\n",
    "    consumo = int(input(\"\"))\n",
    "    consumos.append(consumo)\n",
    "\n",
    "mais_economico = max(consumos)\n",
    "indice_carro = consumos.index(mais_economico)\n",
    "carro_economico = carros[indice_carro]\n",
    "print(f\"{carro_economico}\")\n",
    "for i in range(5):\n",
    "    litros_necessarios = 1000/consumos[i]\n",
    "    print(f\"{litros_necessarios:.0f}\")"
   ]
  },
  {
   "cell_type": "code",
   "execution_count": null,
   "id": "f0cdf5d5",
   "metadata": {},
   "outputs": [],
   "source": [
    "#ex 5- Implemente uma função chamada analise (Apenas a função) que recebe uma lista e retorne a media, mediana, o valor mínimo e o máximo respectivamente, independente do tamanho da lista.\n",
    "\n",
    "def analise(lista):\n",
    "    resultado = []\n",
    "    media = sum(lista)/len(lista) #somar e dividir pelo numero de componentes na lista\n",
    "    lista_ordenada = sorted(lista)\n",
    "    n = len(lista_ordenada)\n",
    "    if n % 2 == 1:\n",
    "        mediana = lista_ordenada[n//2]\n",
    "    else:\n",
    "        mediana = (lista_ordenada[n//2 - 1] + lista_ordenada[n//2])/2\n",
    "    minimo = min(lista)\n",
    "    maximo = max(lista)\n",
    "    resultado.append(media)\n",
    "    resultado.append(mediana)\n",
    "    resultado.append(minimo)\n",
    "    resultado.append(maximo)\n",
    "    return resultado\n",
    "\n",
    "print(analise([2,5,7,-2,8]))"
   ]
  },
  {
   "cell_type": "code",
   "execution_count": null,
   "id": "427fa46e",
   "metadata": {},
   "outputs": [],
   "source": [
    "#ex 5.1\n",
    "def analise(lista):\n",
    "    media = sum(lista)/len(lista)\n",
    "    lista_ordenada = sorted(lista)\n",
    "    n = len(lista_ordenada)\n",
    "    mediana = lista_ordenada[n//2]\n",
    "    minimo = min(lista)\n",
    "    maximo = max(lista)\n",
    "    return (media, mediana, minimo, maximo)"
   ]
  },
  {
   "cell_type": "code",
   "execution_count": null,
   "id": "2730c129",
   "metadata": {},
   "outputs": [],
   "source": [
    "#5.2\n",
    "def analise(lista):\n",
    "    media = sum(lista)/len(lista) #somar e dividir pelo numero de componentes na lista\n",
    "    lista_ordenada = sorted(lista)\n",
    "    n = len(lista_ordenada)\n",
    "    if n % 2 == 1:\n",
    "        mediana = lista_ordenada[n//2]\n",
    "    else:\n",
    "        mediana = (lista_ordenada[n//2 - 1] + lista_ordenada[n//2])/2\n",
    "    minimo = min(lista)\n",
    "    maximo = max(lista)\n",
    "    return (media, mediana, minimo, maximo)"
   ]
  }
 ],
 "metadata": {
  "kernelspec": {
   "display_name": "Python 3",
   "language": "python",
   "name": "python3"
  },
  "language_info": {
   "codemirror_mode": {
    "name": "ipython",
    "version": 3
   },
   "file_extension": ".py",
   "mimetype": "text/x-python",
   "name": "python",
   "nbconvert_exporter": "python",
   "pygments_lexer": "ipython3",
   "version": "3.12.6"
  }
 },
 "nbformat": 4,
 "nbformat_minor": 5
}
