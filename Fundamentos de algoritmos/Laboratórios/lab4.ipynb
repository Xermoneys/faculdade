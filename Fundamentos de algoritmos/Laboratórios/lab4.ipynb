{
 "cells": [
  {
   "cell_type": "code",
   "execution_count": null,
   "id": "dd83d472",
   "metadata": {},
   "outputs": [],
   "source": [
    "#ex3\n",
    "prova1 = int(input(\"Digite a primeira nota: \"))\n",
    "prova2 = int(input(\"Digite a segunda nota: \"))\n",
    "media = ((prova1 + prova2) / 2)\n",
    "if media >= 7:\n",
    "    print(f\"Média: {media:.2f} - Aprovado\")\n",
    "elif media > 5 and media < 7:\n",
    "    print(f\"Média: {media:.2f} - Recuperação\")\n",
    "else:\n",
    "    print(f\"Média: {media:.2f} - Reprovado\")"
   ]
  },
  {
   "cell_type": "code",
   "execution_count": 12,
   "id": "b4c1c963",
   "metadata": {},
   "outputs": [
    {
     "name": "stdout",
     "output_type": "stream",
     "text": [
      "Desconto aplicado: 10.00%\n",
      "Valor final da compra: R$ 270.00\n"
     ]
    }
   ],
   "source": [
    "#ex4 \n",
    "valor = float(input(\"Digite o valor total da compra: \"))\n",
    "desconto = 0\n",
    "\n",
    "if valor < 100:\n",
    "    desconto = 0 * valor \n",
    "    print(f\"Desconto aplicado: {desconto:.2f}%\")\n",
    "    print(f\"Valor final da compra: R$ {valor:.2f}\")\n",
    "elif valor > 100.1  and valor < 300:\n",
    "    desconto = 0.05 * 100\n",
    "    descontovalor = 0.05 * valor\n",
    "    valor_total = valor - descontovalor\n",
    "    print(f\"Desconto aplicado: {desconto:.2f}%\")\n",
    "    print(f\"Valor final da compra: R$ {valor_total:.2f}\")\n",
    "else:\n",
    "    desconto = 0.1 * 100\n",
    "    descontovalor = 0.1 * valor\n",
    "    valor_total = valor - descontovalor\n",
    "    print(f\"Desconto aplicado: {desconto:.2f}%\")\n",
    "    print(f\"Valor final da compra: R$ {valor_total:.2f}\")"
   ]
  },
  {
   "cell_type": "code",
   "execution_count": 13,
   "id": "3583fd3c",
   "metadata": {},
   "outputs": [
    {
     "name": "stdout",
     "output_type": "stream",
     "text": [
      "Nota:2.00 - Conceito: F\n"
     ]
    }
   ],
   "source": [
    "#ex5\n",
    "nota = int(input(\"Digite a nota do aluno: \"))\n",
    "if nota >= 9:\n",
    "    conceito = \"A\"\n",
    "elif nota >= 7 and nota < 9:\n",
    "    conceito = \"B\"\n",
    "elif nota >= 5 and nota < 7:\n",
    "    conceito = \"C\"\n",
    "elif nota >= 3 and nota < 5:\n",
    "    conceito = \"D\"\n",
    "else:\n",
    "    conceito = \"F\"\n",
    "print(f\"Nota:{nota:.2f} - Conceito: {conceito}\")"
   ]
  }
 ],
 "metadata": {
  "kernelspec": {
   "display_name": "Python 3",
   "language": "python",
   "name": "python3"
  },
  "language_info": {
   "codemirror_mode": {
    "name": "ipython",
    "version": 3
   },
   "file_extension": ".py",
   "mimetype": "text/x-python",
   "name": "python",
   "nbconvert_exporter": "python",
   "pygments_lexer": "ipython3",
   "version": "3.12.6"
  }
 },
 "nbformat": 4,
 "nbformat_minor": 5
}
