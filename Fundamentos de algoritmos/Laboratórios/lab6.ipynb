{
 "cells": [
  {
   "cell_type": "code",
   "execution_count": null,
   "metadata": {},
   "outputs": [
    {
     "name": "stdout",
     "output_type": "stream",
     "text": [
      "##\n",
      "##\n"
     ]
    }
   ],
   "source": [
    "#Faça um programa que leia do usuário um número inteiro de 1 a 10 e mostre um X de # e \" \" (espaço) na tela. O X deve ter a diagonal principal e a diagonal secundária preenchidas com o caractere \"#\". Os outros espaços devem ser preenchidos com espaços. Caso o número digitado não seja válido, o programa deve mostrar a mensagem (Número inválido!).\n",
    "#ex1\n",
    "numero = int(input(\"Digite um número inteiro de 1 a 10: \"))\n",
    "if numero >= 1 and numero <= 10:\n",
    "    for linha in range(numero):\n",
    "        for coluna in range(numero):\n",
    "            if linha == coluna or linha + coluna == numero - 1:\n",
    "                print(\"#\",end=\"\")\n",
    "            else:\n",
    "                print(\" \",end=\"\")\n",
    "        print()\n",
    "else:\n",
    "    print(\"Número inválido!\")"
   ]
  },
  {
   "cell_type": "code",
   "execution_count": null,
   "metadata": {},
   "outputs": [
    {
     "name": "stdout",
     "output_type": "stream",
     "text": [
      "Fatorial de 1 = 1\n",
      "Fatorial de 2 = 2\n",
      "Fatorial de 3 = 6\n"
     ]
    }
   ],
   "source": [
    "#Faça um programa que leia do usuário um número inteiro de 1 a 10 e calcule o fatorial de todos os números de 1 até o número digitado. O fatorial de um número é o produto de todos os inteiros positivos de 1 até esse número. O programa deve exibir o fatorial de cada número individualmente. Caso o número digitado não seja válido, o programa deve mostrar a mensagem (Número inválido!).\n",
    "#ex2\n",
    "numero = int(input(\"Digite um número de 1 a 10: \"))\n",
    "formula = 1\n",
    "if numero >= 1 and numero <= 10:\n",
    "    for i in range(1, numero + 1):\n",
    "        formula *= i  #formula = formula * i\n",
    "        print(f\"Fatorial de {i} = {formula}\")\n",
    "else:\n",
    "    print(\"Número inválido!\")"
   ]
  },
  {
   "cell_type": "code",
   "execution_count": null,
   "metadata": {},
   "outputs": [
    {
     "name": "stdout",
     "output_type": "stream",
     "text": [
      "  +   \n",
      "+ + + \n",
      "  +   \n"
     ]
    }
   ],
   "source": [
    "#Faça um programa que peça ao usuário para digitar um número inteiro de 1 a 10 e \n",
    "#desenhe uma cruz usando o caractere + com base na entrada.\n",
    "#O tamanho da cruz deve ser baseado em um número inteiro positivo fornecido pelo usuário, que determina o comprimento dos braços da cruz.\n",
    "#Caso o número digitado não seja válido, o programa deve mostrar a mensagem (Número inválido!).\n",
    "#ex3\n",
    "numero = int(input(\"Digite o tamanho da cruz: \"))\n",
    "if numero >= 1 and numero <= 10:\n",
    "    tamanho = numero - 1\n",
    "    for linha in range(2* numero - 1):\n",
    "        for coluna in range(2 * numero - 1):\n",
    "            if linha == tamanho or coluna == tamanho:\n",
    "                print(\"+\",end=\" \")\n",
    "            else:\n",
    "                print(\" \",end=\" \")\n",
    "        print()\n",
    "else:\n",
    "    print(\"Número inválido!\")"
   ]
  },
  {
   "cell_type": "code",
   "execution_count": null,
   "metadata": {},
   "outputs": [
    {
     "name": "stdout",
     "output_type": "stream",
     "text": [
      "Par (1, 1) - Soma: 2\n",
      "Par (1, 2) - Soma: 3\n",
      "Par (1, 3) - Soma: 4\n",
      "Par (2, 1) - Soma: 3\n",
      "Par (2, 2) - Soma: 4\n",
      "Par (2, 3) - Soma: 5\n",
      "Par (3, 1) - Soma: 4\n",
      "Par (3, 2) - Soma: 5\n",
      "Par (3, 3) - Soma: 6\n"
     ]
    }
   ],
   "source": [
    "#Faça um programa que leia do usuário um número inteiro de 1 a 10 e exiba todos os pares de números inteiros (i, j) onde i e j variam de 1 até o número digitado.\n",
    "#Para cada par (i, j), o programa deve exibir a soma de i + j.\n",
    "#Caso o número digitado não seja válido, o programa deve mostrar a mensagem (Número inválido!).\n",
    "#ex4\n",
    "numero = int(input(\"Digite um número de 1 a 10: \"))\n",
    "if numero >= 1 and numero < 10:\n",
    "    for linha in range(numero):\n",
    "        for coluna in range(numero):\n",
    "            formula = linha + 1 + coluna + 1 #para contar a partir da 1 linha e coluna\n",
    "            print(f\"Par {linha + 1, coluna + 1} - Soma: {formula}\")\n",
    "else:\n",
    "    print(\"Número inválido!\")"
   ]
  },
  {
   "cell_type": "code",
   "execution_count": null,
   "metadata": {},
   "outputs": [
    {
     "name": "stdout",
     "output_type": "stream",
     "text": [
      "Matriz 3x3: [[0, 0, 0], [0, 0, 0], [0, 0, 0]] \n"
     ]
    }
   ],
   "source": [
    "#ex5\n",
    "#Escreva um programa em Python que:\n",
    "#Peça ao usuário um número inteiro n entre 1 e 10.\n",
    "#Crie uma matriz n × n contendo apenas o número 0.\n",
    "#Exiba a matriz na tela se for possível.\n",
    "numero = int(input(\"Digite o valor de n (entre 1 e 10): \"))\n",
    "matriz = []\n",
    "if numero >= 1 and numero <= 10:\n",
    "    matriz = [[0 for _ in range(numero)]for _ in range(numero)]\n",
    "    print(f\"Matriz {numero}x{numero}: {matriz} \")\n",
    "else:\n",
    "    print(\"Por favor, insira um número entre 1 e 10.\")\n",
    "    #nesse caso não precisa de append pois a impressão já é o 0"
   ]
  }
 ],
 "metadata": {
  "kernelspec": {
   "display_name": "Python 3",
   "language": "python",
   "name": "python3"
  },
  "language_info": {
   "codemirror_mode": {
    "name": "ipython",
    "version": 3
   },
   "file_extension": ".py",
   "mimetype": "text/x-python",
   "name": "python",
   "nbconvert_exporter": "python",
   "pygments_lexer": "ipython3",
   "version": "3.12.6"
  }
 },
 "nbformat": 4,
 "nbformat_minor": 2
}
