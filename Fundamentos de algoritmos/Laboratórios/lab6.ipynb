{
 "cells": [
  {
   "cell_type": "code",
   "execution_count": 51,
   "metadata": {},
   "outputs": [
    {
     "name": "stdout",
     "output_type": "stream",
     "text": [
      "##\n",
      "##\n"
     ]
    }
   ],
   "source": [
    "#ex1\n",
    "numero = int(input(\"Digite um número inteiro de 1 a 10: \"))\n",
    "if numero >= 1 and numero <= 10:\n",
    "    for linha in range(numero):\n",
    "        for coluna in range(numero):\n",
    "            if linha == coluna or linha + coluna == numero - 1:\n",
    "                print(\"#\",end=\"\")\n",
    "            else:\n",
    "                print(\" \",end=\"\")\n",
    "        print()\n",
    "else:\n",
    "    print(\"Número inválido!\")"
   ]
  },
  {
   "cell_type": "code",
   "execution_count": 55,
   "metadata": {},
   "outputs": [
    {
     "name": "stdout",
     "output_type": "stream",
     "text": [
      "Fatorial de 1 = 1\n",
      "Fatorial de 2 = 2\n",
      "Fatorial de 3 = 6\n"
     ]
    }
   ],
   "source": [
    "#ex2\n",
    "numero = int(input(\"Digite um número de 1 a 10: \"))\n",
    "formula = 1\n",
    "if numero >= 1 and numero <= 10:\n",
    "    for i in range(1, numero + 1):\n",
    "        formula *= i  \n",
    "        print(f\"Fatorial de {i} = {formula}\")\n",
    "else:\n",
    "    print(\"Número inválido!\")"
   ]
  }
 ],
 "metadata": {
  "kernelspec": {
   "display_name": "base",
   "language": "python",
   "name": "python3"
  },
  "language_info": {
   "codemirror_mode": {
    "name": "ipython",
    "version": 3
   },
   "file_extension": ".py",
   "mimetype": "text/x-python",
   "name": "python",
   "nbconvert_exporter": "python",
   "pygments_lexer": "ipython3",
   "version": "3.12.7"
  }
 },
 "nbformat": 4,
 "nbformat_minor": 2
}
