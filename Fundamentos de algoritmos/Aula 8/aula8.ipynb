{
 "cells": [
  {
   "cell_type": "markdown",
   "metadata": {},
   "source": [
    "# Listas e tuplas"
   ]
  },
  {
   "cell_type": "markdown",
   "metadata": {},
   "source": [
    "## Listas\n",
    "\n",
    "Uma lista é uma variável que armazena um conjunto de valores\n",
    "Lista é um tipo de variável que permite o armazenamento de valores:\n",
    "- com tipos homogêneos (do mesmo tipo)\n",
    "- ou heterogêneos (tipos diferentes)\n",
    "Os valores armazenados em uma lista são acessados por um índice\n",
    "\n",
    "Para indicar que uma variável é uma lista:\n",
    "- Utilizamos o símbolo de colchetes [ ] para delimitar o conjunto\n",
    "- Sintaxe- criando uma lista chamada L\n",
    "\n",
    "```python\n",
    "L = [] # Cria uma lista vazia\n",
    "```\n",
    "\n",
    "Criando uma lista chamada z com 3 números inteiros\n",
    "\n",
    "```python\n",
    "L =[5, 7, 1]\n",
    "print(z)\n",
    "```\n",
    "\n",
    "- Para acessarmos o primeiro número da lista z, utilizamos a notação `z[0]`\n",
    "- Podemos modificar o elemento na lista utilizando, por exemplo, `z[0] = 10`. Ou seja, atribuir o valor de 10 para o elemento no índice 0 da lista z.\n",
    "- Podemos adicionar novos elementos utilizando `z.append(10)`, ou seja, adionar 10 ao final (apend) da lista z.  \n",
    "- Podemos adicionar novos elementos em qualquer lugar utilizando `z.insert(1, \"oi\")`, ou seja, adicionar no índice 1 o valor `\"oi\"`.\n",
    "- Podemos remover um elemento em determinado indice utilizando `z.pop()`, ou seja, remove o último valor da lista z. \n",
    "- Podemos remover um valor específicio utilizando `z.remove(2)`, ou seja, remove a primiera ocorrência do valor 2 da lista z\n",
    "- Para descobrir o tamanho da lista utilizamos o método `len(z)` para descobrir o tamanho da lista `z`.\n",
    " \n",
    "\n"
   ]
  },
  {
   "cell_type": "code",
   "execution_count": null,
   "metadata": {},
   "outputs": [],
   "source": [
    "# Exemplos de aula\n",
    "\n",
    "# Cria e imprime uma lista vazia\n",
    "L = [] \n",
    "print(L) \n",
    "\n",
    "# Cria e imprime uma lista com 5 elementos\n",
    "L = [1, 2, 3, 4, 5]\n",
    "print(L)\n",
    "\n",
    "# Acessando o primeiro e segundo elemento da lista\n",
    "print(L[0]) # 1\n",
    "print(L[1]) # 2\n",
    "\n",
    "# Modificando o primeiro elemento da lista\n",
    "L[0] = 10\n",
    "print(L) # [10, 2, 3, 4, 5]\n",
    "\n",
    "# Adicionando um elemento ao final da lista\n",
    "L.append(6)\n",
    "print(L) # [10, 2, 3, 4, 5, 6]\n",
    "\n",
    "# Removendo o último elemento da lista\n",
    "L.pop()\n",
    "print(L) # [10, 2, 3, 4, 5]\n",
    "\n",
    "# Removendo outro elemento da lista\n",
    "L.pop(1)\n",
    "print(L) # [10, 3, 4, 5]\n",
    "\n",
    "# Removendo um valor específico da lista\n",
    "L.remove(3)\n",
    "print(L) # [10, 4, 5]"
   ]
  },
  {
   "cell_type": "code",
   "execution_count": null,
   "metadata": {},
   "outputs": [],
   "source": [
    "# Procurando um elemento na lista\n",
    "L = [\"a\", \"b\", \"c\", \"d\", \"e\"]\n",
    "for i in range(len(L)):\n",
    "    if L[i] == \"c\":\n",
    "        print(\"Elemento encontrado na posição:\", i)\n",
    "        break\n",
    "else:\n",
    "    print(\"Elemento não encontrado\")"
   ]
  },
  {
   "cell_type": "code",
   "execution_count": null,
   "metadata": {},
   "outputs": [],
   "source": [
    "# Se a ideia for verificar se o elemento está na lista, podemos usar o operador \"in\"\n",
    "L = [\"a\", \"b\", \"c\", \"d\", \"e\"]\n",
    "if \"c\" in L:\n",
    "    print(\"Elemento encontrado\")\n",
    "else:\n",
    "    print(\"Elemento não encontrado\")"
   ]
  },
  {
   "cell_type": "code",
   "execution_count": null,
   "metadata": {},
   "outputs": [],
   "source": [
    "# As vezes precisamos saber a posição de um elemento na lista\n",
    "L = [\"a\", \"b\", \"c\", \"d\", \"e\"]\n",
    "for indice in range(len(L)):\n",
    "    if L[indice] == \"c\":\n",
    "        print(\"Elemento encontrado na posição:\", indice)\n",
    "        break\n",
    "else:\n",
    "    print(\"Elemento não encontrado\")"
   ]
  },
  {
   "cell_type": "markdown",
   "metadata": {},
   "source": [
    "### Fatiamento de listas\n",
    "\n",
    "No Python, podemos também fatiar as listas, ou seja, pegar somente partes de uma lista\n",
    "Para isso utilizamos a seguinte sintaxe: `z[<inicio>:<fim>:<passo>]`. \n",
    "\n",
    "A cópia de uma lista requer bastante atenção!\n",
    "Por exemplo, ao executar `z = z1`, criamos duas variáveis que referenciam a mesma lista!\n",
    "Para fazer a cópia devemos utilizar `z = z[:]`, ou seja, \"fatiamos\" a lista inteira e passamos isso para a lista z. "
   ]
  },
  {
   "cell_type": "code",
   "execution_count": null,
   "metadata": {},
   "outputs": [],
   "source": [
    "# Exemplo de fatiamento\n",
    "p = [42, 13, 82, 63, 80, 90]\n",
    "print(p[1:4]) # [13, 82, 63] fatiamento do índice 1 ao 3\n",
    "print(p[:3])  # [42, 13, 82] # fatiamento do início até o índice 2\n",
    "print(p[-1]) # 90 # último elemento\n",
    "print(p[:]) # [42, 13, 82, 63, 80, 90] # fatiamento do início ao fim\n",
    "print(p[::2]) # [42, 82, 80] # fatiamento do início ao fim, pulando de 2 em 2"
   ]
  },
  {
   "cell_type": "markdown",
   "metadata": {},
   "source": [
    "## Tuplas\n",
    "\n",
    "- Tuplas são similares às listas, porém são imutáveis!\n",
    "- Tuplas não permitem adicionar, apagar, inserir ou modificar elementos\n",
    "- Tuplas são definidas com parêntesis ( )\n",
    "- Tuplas são definidas com colchetes [ ]\n",
    "- A maior diferença entre listas e tuplas é que as tuplas são imutáveis!"
   ]
  },
  {
   "cell_type": "markdown",
   "metadata": {},
   "source": [
    "# Exercícios"
   ]
  },
  {
   "cell_type": "code",
   "execution_count": null,
   "metadata": {},
   "outputs": [],
   "source": [
    "# Exercício 1\n",
    "# Faça um programa que:\n",
    "# - Leia 5 valores do usuário e armazene-os em uma lista\n",
    "# - Imprima a lista completa\n",
    "# - Imprima o primeiro e o último elemento da lista\n",
    "\n",
    "n1 = int(input(\"Coloque um número: \"))\n",
    "n2 = int(input(\"Coloque um número: \"))\n",
    "n3 = int(input(\"Coloque um número: \"))\n",
    "n4 = int(input(\"Coloque um número: \"))\n",
    "n5 = int(input(\"Coloque um número: \"))\n",
    "L = [n1,n2,n3,n4,n5]\n",
    "print(L)\n",
    "print(L[0])\n",
    "print(L[4])"
   ]
  },
  {
   "cell_type": "code",
   "execution_count": 11,
   "metadata": {},
   "outputs": [
    {
     "name": "stdout",
     "output_type": "stream",
     "text": [
      "O menor valor é: 2\n",
      "O menor valor é: 11\n"
     ]
    }
   ],
   "source": [
    "# Exercício 2\n",
    "# Faça um programa que:\n",
    "# ▶ Mostre o menor valor dentro da lista T = [11, 7, 2, 4]\n",
    "\n",
    "#menor valor\n",
    "T = [11, 7, 2, 4]\n",
    "menor = T[0]\n",
    "for i in range(1, len(T)):\n",
    "    if T[i] < menor:\n",
    "        menor = T[i]\n",
    "print(\"O menor valor é:\", menor)\n",
    "#maior valor\n",
    "T = [11, 7, 2, 4]\n",
    "maior = T[0]\n",
    "for i in range(1, len(T)):\n",
    "    if T[i] > maior:\n",
    "        maior = T[i]\n",
    "print(\"O maior valor é:\", maior)"
   ]
  },
  {
   "cell_type": "code",
   "execution_count": 26,
   "metadata": {},
   "outputs": [
    {
     "name": "stdout",
     "output_type": "stream",
     "text": [
      "[1, 23, 32, 42, 1, 6, 7, 8, 10, 2]\n",
      "O maior valor é: 42\n",
      "O índice do maior valor é: 4\n"
     ]
    }
   ],
   "source": [
    "# Exercício 3\n",
    "# Faça um programa que:\n",
    "# ▶ Peça 10 números reais do usuário.\n",
    "# ▶ Armazene-os em uma lista e diga qual o índice do maior e seu valor\n",
    "\n",
    "L = []\n",
    "for i in range(10):\n",
    "    n = float(input(f\"Digite o {i+1}° número: \"))\n",
    "    L.append(n)\n",
    "maior = L[0]\n",
    "indice = 0\n",
    "for i in range(1, len(L)):\n",
    "    if L[i] > maior:\n",
    "        maior = L[i]\n",
    "        indice = i + 1\n",
    "print(L)\n",
    "print(\"O maior valor é:\", maior)\n",
    "print(\"O índice do maior valor é:\", indice)\n"
   ]
  },
  {
   "cell_type": "code",
   "execution_count": 6,
   "metadata": {},
   "outputs": [
    {
     "name": "stdout",
     "output_type": "stream",
     "text": [
      "[1, 2, 3, 4, 5, 6, 7, 8, 9, 10]\n",
      "A soma dos elementos pares é: 30\n",
      "A soma dos elementos de índice par é: 25\n"
     ]
    }
   ],
   "source": [
    "# Exercício 4\n",
    "# Faça um programa para criar uma lista de 10 elementos do\n",
    "# usuário e aprsente:\n",
    "# ▶ a soma dos elementos pares\n",
    "# ▶ a soma dos elementos de índice par\n",
    "\n",
    "L = []\n",
    "for i in range(10):\n",
    "    n = int(input(f\"Digite o {i+1}° número: \"))\n",
    "    L.append(n)\n",
    "soma = 0\n",
    "for i in range(len(L)):\n",
    "    if L[i] %2 == 0:\n",
    "        soma = soma + L[i]\n",
    "somaindice = 0\n",
    "for i in range(len(L)):\n",
    "    if i % 2 == 0:\n",
    "           somaindice = somaindice + L[i]\n",
    "print(L)\n",
    "print(\"A soma dos elementos pares é:\", soma)\n",
    "print(\"A soma dos elementos de índice par é:\", somaindice)"
   ]
  },
  {
   "cell_type": "code",
   "execution_count": 14,
   "metadata": {},
   "outputs": [
    {
     "name": "stdout",
     "output_type": "stream",
     "text": [
      "[1, 2, 3]\n",
      "[3, 2, 1]\n"
     ]
    }
   ],
   "source": [
    "# Exercício 5\n",
    "# Faça um programa que:\n",
    "# ▶ Imprime uma sequência de n números em ordem inversa à da leitura\n",
    "# ▶ Utilize uma lista para isso.\n",
    "\n",
    "L = []\n",
    "numeros = int(input(\"Quantos números você quer colocar na lista? \"))\n",
    "for i in range(numeros):\n",
    "    n = int(input(f\"Digite o {i+1}° número: \"))\n",
    "    L.append(n)\n",
    "print(L)\n",
    "inverso = L[::-1]\n",
    "print(inverso)"
   ]
  },
  {
   "cell_type": "code",
   "execution_count": 5,
   "metadata": {},
   "outputs": [],
   "source": [
    "# Exercício 6\n",
    "# Faça um programa para criar uma lista de 10 elementos inteiros\n",
    "# ▶ Mostre todos os elementos que forem maiores que a soma de dois de seus antecessores\n",
    "\n",
    "lista = []\n",
    "for i in range(10):\n",
    "    n = int(input(f\"Digite o {i+1}° número: \"))\n",
    "    lista.append(n)\n",
    "\n",
    "print(lista)\n",
    "\n",
    "for i in range(2, len(lista)):\n",
    "    if lista[i] > (lista[i-1] + lista[i-2]):\n",
    "        print(f\"O elemento {lista[i]} na posição {i} é maior que a soma dos dois antecessores ({lista[i-1]} + {lista[i-2]})\")\n"
   ]
  },
  {
   "cell_type": "code",
   "execution_count": 15,
   "metadata": {},
   "outputs": [
    {
     "name": "stdout",
     "output_type": "stream",
     "text": [
      "A menor temperatura é: -10\n",
      "A maior temperatura é: 5\n",
      "A média das temperaturas é: -2.0\n"
     ]
    }
   ],
   "source": [
    "# Exercício 7\n",
    "# As temperaturas de uma cidade foram armazenadas na lista\n",
    "# temperaturas = [-10,-8, 0, 1, 2, 5,-2,-4].\n",
    "# Faça um programa que imprime a menor e a maior temperatura\n",
    "# E imprima também a média das temperaturas\n",
    "\n",
    "temperaturas = [-10,-8, 0, 1, 2, 5,-2,-4]\n",
    "menor = temperaturas[0]\n",
    "maior = temperaturas[0]\n",
    "soma = 0\n",
    "for i in range(len(temperaturas)):\n",
    "    if temperaturas[i] < menor:\n",
    "        menor = temperaturas[i]\n",
    "    if temperaturas[i] > maior:\n",
    "        maior = temperaturas[i]\n",
    "    soma += temperaturas[i]\n",
    "media = soma / len(temperaturas)\n",
    "\n",
    "print(\"A menor temperatura é:\", menor)\n",
    "print(\"A maior temperatura é:\", maior)\n",
    "print(\"A média das temperaturas é:\", media)"
   ]
  },
  {
   "cell_type": "code",
   "execution_count": 1,
   "metadata": {},
   "outputs": [
    {
     "name": "stdout",
     "output_type": "stream",
     "text": [
      "first\n",
      "second\n",
      "third\n"
     ]
    }
   ],
   "source": [
    "# Exercício 8\n",
    "# Neste exercício, você criará um programa que lê palavras do usuário até que o usuário entre com uma linha em branco.\n",
    "# Após o usuário digitar uma linha em branco, seu programa deve exibir cada palavra digitada pelo usuário exatamente uma vez.\n",
    "# As palavras devem ser exibidas na mesma ordem em que foram inseridas.\n",
    "\n",
    "palavras = []\n",
    "while True:\n",
    "    palavra = input(\"Digite uma palavra (ou pressione Enter para sair): \")\n",
    "    if palavra == \"\":\n",
    "        break\n",
    "    if palavra not in palavras:\n",
    "        palavras.append(palavra)\n",
    "for palavra in palavras:\n",
    "    print(palavra)\n",
    "    "
   ]
  }
 ],
 "metadata": {
  "kernelspec": {
   "display_name": "base",
   "language": "python",
   "name": "python3"
  },
  "language_info": {
   "codemirror_mode": {
    "name": "ipython",
    "version": 3
   },
   "file_extension": ".py",
   "mimetype": "text/x-python",
   "name": "python",
   "nbconvert_exporter": "python",
   "pygments_lexer": "ipython3",
   "version": "3.12.7"
  }
 },
 "nbformat": 4,
 "nbformat_minor": 2
}
