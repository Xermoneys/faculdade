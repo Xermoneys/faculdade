{
 "cells": [
  {
   "cell_type": "markdown",
   "metadata": {},
   "source": [
    "# Estruturas de repetição encadeadas\n",
    "\n",
    "As estruturas de repetição encadeadas ocorrem quando um laço de repetição é colocado dentro de outro la;co de repetição. \n",
    "Neste caso, o láco intero é executado completamente a cada iteração do laço externo. \n",
    "Este mecanismo é bastante utilizado para tarefas computacionais que exigem exploração de espaços de soluções ou conjuntos de dados multi-dimensionais. "
   ]
  },
  {
   "cell_type": "markdown",
   "metadata": {},
   "source": [
    "# Exemplos"
   ]
  },
  {
   "cell_type": "code",
   "execution_count": null,
   "metadata": {},
   "outputs": [],
   "source": [
    "# Exemplo 1.\n",
    "\n",
    "# Escreva um programa para apresentar 10 linhas, cada uma com 10 colunas, variando de 0 a 9. \n",
    "\n",
    "# Para as linhas podemos excutar\n",
    "\n",
    "print(\"Imprimindo linhas\")\n",
    "for linha in range (10): # 10 linhas\n",
    "    print(f\"Linha: {linha} \")\n",
    "    \n",
    "print()\n"
   ]
  },
  {
   "cell_type": "code",
   "execution_count": null,
   "metadata": {},
   "outputs": [],
   "source": [
    "# Para as linhas e colunas podemos\n",
    "\n",
    "print(\"Imprimindo linhas e colunas\")\n",
    "for linha in range(10):\n",
    "    print(f\"Linha: {linha} \")\n",
    "    print(f\"Colunas: \", end=\" \")\n",
    "    for coluna in range(10):\n",
    "        print(coluna, end=\" \")\n",
    "    print()"
   ]
  },
  {
   "cell_type": "code",
   "execution_count": null,
   "metadata": {},
   "outputs": [],
   "source": [
    "# Removendo os prints desnecessáiros\n",
    "\n",
    "print(\"Imprimindo linhas e colunas\")\n",
    "for linha in range(10):\n",
    "    for coluna in range(10):\n",
    "        print(coluna, end=\" \")\n",
    "    print()"
   ]
  },
  {
   "cell_type": "markdown",
   "metadata": {},
   "source": [
    "# Exercícios"
   ]
  },
  {
   "cell_type": "code",
   "execution_count": 2,
   "metadata": {},
   "outputs": [
    {
     "name": "stdout",
     "output_type": "stream",
     "text": [
      "Não é primo.\n",
      "Não é primo.\n"
     ]
    }
   ],
   "source": [
    "# Exercício 1\n",
    "# Faça um programa que receba uma série de n;umeros naturaus e contabilize quantos desses números são primos. \n",
    "# Um número primo x é primo se x > 1 e seus únicos divisores são 1 e x.\n",
    "\n",
    "numero = int(input(\"Digite a quantidade de números a serem testados: \"))\n",
    "\n",
    "for i in range(numero):\n",
    "    n = int(input(f\"Digite o número {i + 1}: \"))\n",
    "    if n >1: \n",
    "        eh_primo = True\n",
    "        for j in range(2, n):\n",
    "            if n % j == 0:\n",
    "                eh_primo = False\n",
    "        \n",
    "        if eh_primo == True:\n",
    "            print(\"É primo.\")\n",
    "        else:\n",
    "            print(\"Não é primo.\")"
   ]
  },
  {
   "cell_type": "code",
   "execution_count": null,
   "metadata": {},
   "outputs": [],
   "source": [
    "# Exercício 2\n",
    "# Faça um porgrama que permita imprimir apenas as bordas de um retângulo. \n",
    "# O programa deve receber dois números inteiros L > 0 e C > 0, que representam a quantidade de linhas e colunas do retângulo, respectivamente."
   ]
  },
  {
   "cell_type": "code",
   "execution_count": null,
   "metadata": {},
   "outputs": [],
   "source": [
    "# Exercício 3\n",
    "# Faça um program que permita imprimir uma representação de um tabuleiro de xadrez utilizando os caracteres \"o\" e \"x\".\n",
    "# O canto superior esquerdo do tabuleiro deve ser preenchido com o caractere \"o\"."
   ]
  },
  {
   "cell_type": "code",
   "execution_count": null,
   "metadata": {},
   "outputs": [],
   "source": [
    "# Exercício 4\n",
    "# Faça um programa que permita imprimir uma represetação de tabela quadrada com $ e @. \n",
    "# Nesta tabela o triangulo inferior esquerdo deve ser preenchido com $ e o triângulo superior direito deve ser preenchido com @."
   ]
  },
  {
   "cell_type": "code",
   "execution_count": null,
   "metadata": {},
   "outputs": [],
   "source": [
    "# Exercício 5\n",
    "# Faça um programa que permita imprimir uma representação da tabela quadrada seguindo o padrão. "
   ]
  },
  {
   "cell_type": "code",
   "execution_count": null,
   "metadata": {},
   "outputs": [],
   "source": [
    "# Exercício 6\n",
    "# Crie um progama que leia um número natural positivo N e determine quantos dígitos possui o número.\n",
    "# Entrada: O programa recebe um número inteiro, N, maior que zero. \n",
    "# Saída: O programa deve imprimir a quantidade de dígitos do número N."
   ]
  },
  {
   "cell_type": "code",
   "execution_count": null,
   "metadata": {},
   "outputs": [],
   "source": [
    "# Exercício 7\n",
    "# Crie um porgama que permita verificar se um número pertence a sequência de Fibonacci.\n",
    "# A sequência de Fibonacci é uma sequência de números inteiros, começando normalmente por 0 e 1, na qual, cada termo subsequente corresponde à soma dos dois anteriores.\n",
    "# Entrada: O programa recebe um número inteiro, N, maior que zero.\n",
    "# Saída: O programa deve imprimir \"verdadeiro\" se o número N pertence ou \"Falso\" caso não pertença à sequência de Fibonacci.\n",
    "    \n",
    "\n",
    "numero = int(input(\"Digite um número inteiro maior ou igual a zero: \"))\n",
    "a = 0 \n",
    "b = 1\n",
    "while b < numero:\n",
    "    a, b = b, a + b\n",
    "\n",
    "if numero == 0 or numero == 1:\n",
    "    print(\"Verdadeiro\")\n",
    "elif b == numero:\n",
    "    print(\"Verdadeiro\")\n",
    "else: \n",
    "    print(\"Falso\")"
   ]
  }
 ],
 "metadata": {
  "kernelspec": {
   "display_name": "base",
   "language": "python",
   "name": "python3"
  },
  "language_info": {
   "codemirror_mode": {
    "name": "ipython",
    "version": 3
   },
   "file_extension": ".py",
   "mimetype": "text/x-python",
   "name": "python",
   "nbconvert_exporter": "python",
   "pygments_lexer": "ipython3",
   "version": "3.12.7"
  }
 },
 "nbformat": 4,
 "nbformat_minor": 2
}
