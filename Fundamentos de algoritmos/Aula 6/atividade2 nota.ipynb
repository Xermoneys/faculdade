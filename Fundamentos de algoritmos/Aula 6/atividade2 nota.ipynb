{
 "cells": [
  {
   "cell_type": "code",
   "execution_count": null,
   "metadata": {},
   "outputs": [],
   "source": [
    "valor_compra = float(input(\"Digite o valor da compra: \"))\n",
    "quantidade_parcela = int(input(\"Digite a quantidade de parcelas: \"))\n",
    "\n",
    "desconto = 0\n",
    "\n",
    "if valor_compra > 5000:\n",
    "    desconto = desconto * 0.05\n",
    "elif quantidade_parcela == 1:\n",
    "    desconto = desconto * 0.10\n",
    "elif quantidade_parcela == 2 or quantidade_parcela == 3:\n",
    "    desconto = desconto * 0.05\n",
    "\n",
    "valor_desconto = valor_compra * desconto\n",
    "\n",
    "valor_final = valor_compra - valor_desconto\n",
    "\n",
    "if quantidade_parcela > 1:\n",
    "    valor_parcela = valor_final/ quantidade_parcela\n",
    "else:\n",
    "    valor_parcela = valor_final\n",
    "\n",
    "print(f\"Desconto total:{valor_desconto:.2f}\")\n",
    "print(f\"Valor final da compra com desconto: {valor_final:.2f}\")\n",
    "print(f\"Cada parcela será de: {valor_parcela:.2f}\")\n"
   ]
  },
  {
   "cell_type": "code",
   "execution_count": null,
   "metadata": {},
   "outputs": [],
   "source": [
    "\n",
    "valor_compra = float(input(\"Digite o valor da compra: R$ \"))\n",
    "numero_parcelas = int(input(\"Digite a quantidade de parcelas: \"))\n",
    "\n",
    "desconto = 0\n",
    "\n",
    "if numero_parcelas == 1:\n",
    "    desconto = 10  \n",
    "elif 2 <= numero_parcelas <= 3:\n",
    "    desconto = 5   \n",
    "\n",
    "if valor_compra > 5000:\n",
    "    desconto += 5  \n",
    "\n",
    "\n",
    "valor_desconto = valor_compra * desconto / 100\n",
    "\n",
    "\n",
    "valor_final = valor_compra - valor_desconto\n",
    "\n",
    "\n",
    "if numero_parcelas > 1:\n",
    "    valor_parcela = valor_final / numero_parcelas\n",
    "else:\n",
    "    valor_parcela = valor_final  \n",
    "\n",
    "print(f\"Desconto total: {valor_desconto:.2f}\")\n",
    "print(f\"Valor final da compra com desconto: {valor_final:.2f}\")\n",
    "print(f\"Cada parcela será de: {valor_parcela:.2f}\")"
   ]
  },
  {
   "cell_type": "code",
   "execution_count": null,
   "metadata": {},
   "outputs": [],
   "source": [
    "n = int(input(\"Digite o valor de n: \"))\n",
    "\n",
    "for i in range(1, n + 1):\n",
    "    quadrado = i ** 2\n",
    "    cubo = i ** 3\n",
    "    print(f\"{i} {quadrado} {cubo}\")"
   ]
  },
  {
   "cell_type": "code",
   "execution_count": 6,
   "metadata": {},
   "outputs": [
    {
     "name": "stdout",
     "output_type": "stream",
     "text": [
      "PIM 1\n",
      "2\n",
      "\n"
     ]
    }
   ],
   "source": [
    "n = int(input(\"Digite a quantidade de linhas: \"))\n",
    "\n",
    "for i in range(n):\n",
    "    if i % 4 == 0:\n",
    "        print(\"PIM\", end=\" \")\n",
    "    else:\n",
    "        print(i)\n",
    "print()"
   ]
  },
  {
   "cell_type": "code",
   "execution_count": 14,
   "metadata": {},
   "outputs": [
    {
     "name": "stdout",
     "output_type": "stream",
     "text": [
      "1 2 3 PIM\n",
      "5 6 7 PIM\n",
      "9 10 11 PIM\n",
      "\n"
     ]
    }
   ],
   "source": [
    "n = int(input(\"Digite a quantidade de linhas: \"))\n",
    "contagem = 1\n",
    "for i in range(n):\n",
    "    for i in range(3):\n",
    "        print(contagem, end=' ')\n",
    "        contagem = contagem + 1\n",
    "    print(\"PIM\")\n",
    "    contagem = contagem + 1 \n",
    "print()    "
   ]
  },
  {
   "cell_type": "code",
   "execution_count": 15,
   "metadata": {},
   "outputs": [
    {
     "name": "stdout",
     "output_type": "stream",
     "text": [
      "0 1 2 3 Aqui "
     ]
    }
   ],
   "source": [
    "for i in range(5):\n",
    "    if i == 4:\n",
    "        continue\n",
    "    else:\n",
    "        print(i, end=\" \")\n",
    "else:\n",
    "    print(\"Aqui\", end=\" \")"
   ]
  },
  {
   "cell_type": "code",
   "execution_count": 16,
   "metadata": {},
   "outputs": [
    {
     "name": "stdout",
     "output_type": "stream",
     "text": [
      "0\n",
      "1\n",
      "2\n"
     ]
    }
   ],
   "source": [
    "i = 0\n",
    "while i < 5:\n",
    "    print(i)\n",
    "    i += 1\n",
    "    if i == 3:\n",
    "        break\n",
    "else:\n",
    "    print(0)"
   ]
  },
  {
   "cell_type": "code",
   "execution_count": 17,
   "metadata": {},
   "outputs": [
    {
     "name": "stdout",
     "output_type": "stream",
     "text": [
      "0 1 2 3 Aqui "
     ]
    }
   ],
   "source": [
    "for i in range(5):\n",
    "    if i == 4:\n",
    "        continue\n",
    "    else:\n",
    "        print(i, end=\" \")\n",
    "else:\n",
    "    print(\"Aqui\", end=\" \")"
   ]
  }
 ],
 "metadata": {
  "kernelspec": {
   "display_name": "base",
   "language": "python",
   "name": "python3"
  },
  "language_info": {
   "codemirror_mode": {
    "name": "ipython",
    "version": 3
   },
   "file_extension": ".py",
   "mimetype": "text/x-python",
   "name": "python",
   "nbconvert_exporter": "python",
   "pygments_lexer": "ipython3",
   "version": "3.12.7"
  }
 },
 "nbformat": 4,
 "nbformat_minor": 2
}
