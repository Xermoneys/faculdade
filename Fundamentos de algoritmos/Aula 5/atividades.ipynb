{
 "cells": [
  {
   "cell_type": "code",
   "execution_count": 1,
   "metadata": {},
   "outputs": [
    {
     "name": "stdout",
     "output_type": "stream",
     "text": [
      "1\n",
      "2\n",
      "3\n",
      "4\n",
      "5\n",
      "6\n",
      "7\n",
      "8\n",
      "9\n",
      "10\n"
     ]
    }
   ],
   "source": [
    "#ex 1\n",
    "x = 1\n",
    "while x <= 10:\n",
    "    print(x)\n",
    "    x = x + 1"
   ]
  },
  {
   "cell_type": "code",
   "execution_count": 1,
   "metadata": {},
   "outputs": [
    {
     "name": "stdout",
     "output_type": "stream",
     "text": [
      "1\n",
      "2\n",
      "3\n",
      "4\n",
      "5\n",
      "6\n",
      "7\n",
      "8\n",
      "9\n",
      "10\n",
      "11\n",
      "12\n",
      "13\n",
      "14\n",
      "15\n",
      "16\n",
      "17\n",
      "18\n",
      "19\n",
      "20\n"
     ]
    }
   ],
   "source": [
    "#ex 2\n",
    "ultimo = int (input(\"Digite o último digito da contagem: \"))\n",
    "x = 1\n",
    "while x <= ultimo:\n",
    "    print(x)\n",
    "    x = x + 1"
   ]
  },
  {
   "cell_type": "code",
   "execution_count": null,
   "metadata": {},
   "outputs": [],
   "source": [
    "x = 1 \n",
    "soma = 0\n",
    "while x <= 10:\n",
    "    n = int(input(\"Digite um número: \"))\n",
    "    soma = soma + n \n",
    "    x = x + 1\n",
    "print(f\"Soma: {soma}\")"
   ]
  },
  {
   "cell_type": "code",
   "execution_count": 5,
   "metadata": {},
   "outputs": [
    {
     "name": "stdout",
     "output_type": "stream",
     "text": [
      "0\n",
      "2\n",
      "4\n",
      "6\n",
      "8\n",
      "10\n"
     ]
    }
   ],
   "source": [
    "ultimo = int(input(\"Digite o último digito da contagem: \\n\"))\n",
    "x = 0\n",
    "while x <= ultimo:\n",
    "    if x % 2 == 0:\n",
    "        print(x)\n",
    "    x = x + 1"
   ]
  },
  {
   "cell_type": "code",
   "execution_count": 5,
   "metadata": {},
   "outputs": [
    {
     "name": "stdout",
     "output_type": "stream",
     "text": [
      "12\n"
     ]
    }
   ],
   "source": [
    "soma = 0\n",
    "while True:\n",
    "    n = int(input(\"Digite um número: \"))\n",
    "    if n == 0:\n",
    "        break\n",
    "    soma = soma + n\n",
    "print(soma)"
   ]
  },
  {
   "cell_type": "code",
   "execution_count": 4,
   "metadata": {},
   "outputs": [
    {
     "name": "stdout",
     "output_type": "stream",
     "text": [
      "0 - Somatória: 0\n",
      "1 - Somatória: 1\n",
      "2 - Somatória: 3\n",
      "3 - Somatória: 6\n",
      "4 - Somatória: 10\n",
      "5 - Somatória: 15\n",
      "6 - Somatória: 21\n",
      "7 - Somatória: 28\n",
      "8 - Somatória: 36\n",
      "9 - Somatória: 45\n",
      "10 - Somatória: 55\n",
      "11 - Somatória: 66\n",
      "12 - Somatória: 78\n",
      "13 - Somatória: 91\n",
      "14 - Somatória: 105\n",
      "15 - Somatória: 120\n",
      "16 - Somatória: 136\n",
      "17 - Somatória: 153\n",
      "18 - Somatória: 171\n",
      "19 - Somatória: 190\n",
      "20 - Somatória: 210\n",
      "21 - Somatória: 231\n",
      "22 - Somatória: 253\n",
      "23 - Somatória: 276\n",
      "24 - Somatória: 300\n",
      "25 - Somatória: 325\n",
      "26 - Somatória: 351\n",
      "27 - Somatória: 378\n",
      "28 - Somatória: 406\n",
      "29 - Somatória: 435\n",
      "30 - Somatória: 465\n",
      "31 - Somatória: 496\n",
      "32 - Somatória: 528\n",
      "33 - Somatória: 561\n",
      "34 - Somatória: 595\n",
      "35 - Somatória: 630\n",
      "36 - Somatória: 666\n",
      "37 - Somatória: 703\n",
      "38 - Somatória: 741\n",
      "39 - Somatória: 780\n",
      "40 - Somatória: 820\n",
      "41 - Somatória: 861\n",
      "42 - Somatória: 903\n",
      "43 - Somatória: 946\n",
      "44 - Somatória: 990\n",
      "45 - Somatória: 1035\n",
      "46 - Somatória: 1081\n",
      "47 - Somatória: 1128\n",
      "48 - Somatória: 1176\n",
      "49 - Somatória: 1225\n",
      "50 - Somatória: 1275\n",
      "51 - Somatória: 1326\n",
      "52 - Somatória: 1378\n",
      "53 - Somatória: 1431\n",
      "54 - Somatória: 1485\n",
      "55 - Somatória: 1540\n",
      "56 - Somatória: 1596\n",
      "57 - Somatória: 1653\n",
      "58 - Somatória: 1711\n",
      "59 - Somatória: 1770\n",
      "60 - Somatória: 1830\n",
      "61 - Somatória: 1891\n",
      "62 - Somatória: 1953\n",
      "63 - Somatória: 2016\n",
      "64 - Somatória: 2080\n",
      "65 - Somatória: 2145\n",
      "66 - Somatória: 2211\n",
      "67 - Somatória: 2278\n",
      "68 - Somatória: 2346\n",
      "69 - Somatória: 2415\n",
      "70 - Somatória: 2485\n",
      "71 - Somatória: 2556\n",
      "72 - Somatória: 2628\n",
      "73 - Somatória: 2701\n",
      "74 - Somatória: 2775\n",
      "75 - Somatória: 2850\n",
      "76 - Somatória: 2926\n",
      "77 - Somatória: 3003\n",
      "78 - Somatória: 3081\n",
      "79 - Somatória: 3160\n",
      "80 - Somatória: 3240\n",
      "81 - Somatória: 3321\n",
      "82 - Somatória: 3403\n",
      "83 - Somatória: 3486\n",
      "84 - Somatória: 3570\n",
      "85 - Somatória: 3655\n",
      "86 - Somatória: 3741\n",
      "87 - Somatória: 3828\n",
      "88 - Somatória: 3916\n",
      "89 - Somatória: 4005\n",
      "90 - Somatória: 4095\n",
      "91 - Somatória: 4186\n",
      "92 - Somatória: 4278\n",
      "93 - Somatória: 4371\n",
      "94 - Somatória: 4465\n",
      "95 - Somatória: 4560\n",
      "96 - Somatória: 4656\n",
      "97 - Somatória: 4753\n",
      "98 - Somatória: 4851\n",
      "99 - Somatória: 4950\n",
      "4950\n"
     ]
    }
   ],
   "source": [
    "somatoria = 0\n",
    "for x in range (0,100):\n",
    "    somatoria = somatoria + x\n",
    "    print(f\"{x} - Somatória: {somatoria}\")\n",
    "print (somatoria)"
   ]
  },
  {
   "cell_type": "code",
   "execution_count": null,
   "metadata": {},
   "outputs": [
    {
     "name": "stdout",
     "output_type": "stream",
     "text": [
      "1\n",
      "3\n",
      "5\n",
      "7\n",
      "9\n"
     ]
    }
   ],
   "source": [
    "numero = int(input(\"Digite um número: \"))\n",
    "for x in range (0,numero + 1):\n",
    "    if x % 2 == 1:\n",
    "        print (x)"
   ]
  },
  {
   "cell_type": "code",
   "execution_count": 8,
   "metadata": {},
   "outputs": [
    {
     "name": "stdout",
     "output_type": "stream",
     "text": [
      "1\n",
      "3\n",
      "5\n",
      "7\n",
      "9\n"
     ]
    }
   ],
   "source": [
    "ultimo = int(input(\"Digite um número: \"))\n",
    "x = 0\n",
    "while x <= ultimo:\n",
    "    if x % 2 == 1:\n",
    "        print(x)\n",
    "    x = x + 1"
   ]
  },
  {
   "cell_type": "code",
   "execution_count": 12,
   "metadata": {},
   "outputs": [
    {
     "name": "stdout",
     "output_type": "stream",
     "text": [
      "0\n",
      "1\n",
      "2\n",
      "3\n",
      "4\n",
      "5\n",
      "6\n",
      "7\n",
      "8\n",
      "9\n",
      "10\n",
      "11\n",
      "12\n",
      "13\n",
      "14\n",
      "15\n",
      "16\n",
      "17\n",
      "18\n",
      "19\n",
      "20\n",
      "21\n",
      "22\n",
      "23\n",
      "24\n",
      "25\n",
      "26\n",
      "27\n",
      "28\n",
      "29\n",
      "30\n",
      "31\n",
      "32\n",
      "33\n",
      "34\n",
      "35\n",
      "36\n",
      "37\n",
      "38\n",
      "39\n",
      "40\n",
      "41\n",
      "42\n",
      "43\n",
      "44\n",
      "45\n",
      "46\n",
      "47\n",
      "48\n",
      "49\n",
      "50\n",
      "50\n",
      "52\n",
      "54\n",
      "56\n",
      "58\n",
      "60\n",
      "62\n",
      "64\n",
      "66\n",
      "68\n",
      "70\n",
      "72\n",
      "74\n",
      "76\n",
      "78\n",
      "80\n",
      "82\n",
      "84\n",
      "86\n",
      "88\n",
      "90\n",
      "92\n",
      "94\n",
      "96\n",
      "98\n",
      "100\n"
     ]
    }
   ],
   "source": [
    "x = 0\n",
    "for x in range (0, 51):\n",
    "    print(x)\n",
    "    x = x + 1\n",
    "for x in range (50,101,2):\n",
    "    print(x)\n",
    "    x = x + 2"
   ]
  },
  {
   "cell_type": "code",
   "execution_count": 15,
   "metadata": {},
   "outputs": [
    {
     "name": "stdout",
     "output_type": "stream",
     "text": [
      "10 x 0 = 0\n",
      "10 x 1 = 10\n",
      "10 x 2 = 20\n",
      "10 x 3 = 30\n",
      "10 x 4 = 40\n",
      "10 x 5 = 50\n",
      "10 x 6 = 60\n",
      "10 x 7 = 70\n",
      "10 x 8 = 80\n",
      "10 x 9 = 90\n",
      "10 x 10 = 100\n"
     ]
    }
   ],
   "source": [
    "numero = int(input(\"Digite um número para a tabuada: \"))\n",
    "for x in range (0,11):\n",
    "    print(f\"{numero} x {x} = {numero * x}\")\n",
    "    "
   ]
  },
  {
   "cell_type": "code",
   "execution_count": 11,
   "metadata": {},
   "outputs": [
    {
     "name": "stdout",
     "output_type": "stream",
     "text": [
      "O maior número lido é: 40\n"
     ]
    }
   ],
   "source": [
    "maior_numero = 0\n",
    "\n",
    "for x in range(6):\n",
    "    numero = int(input(f\"Digite o {x+1}º número inteiro positivo: \"))\n",
    "    \n",
    "    if numero < 0:\n",
    "        print(\"Por favor, digite um número positivo.\")\n",
    "        continue\n",
    "    \n",
    "    if numero > maior_numero:\n",
    "        maior_numero = numero\n",
    "\n",
    "print(f\"O maior número lido é: {maior_numero}\")"
   ]
  },
  {
   "cell_type": "code",
   "execution_count": 21,
   "metadata": {},
   "outputs": [
    {
     "name": "stdout",
     "output_type": "stream",
     "text": [
      "Número inválido. Tente novamente.\n",
      "Número aceito.\n"
     ]
    }
   ],
   "source": [
    "while True:\n",
    "    numero = int(input(\"Digite um número entre 0 e 10: \"))\n",
    "    if numero >= 0 and numero <= 10:\n",
    "        print(\"Número aceito.\")\n",
    "        break  \n",
    "    else:\n",
    "        print(\"Número inválido. Tente novamente.\")\n"
   ]
  },
  {
   "cell_type": "code",
   "execution_count": 26,
   "metadata": {},
   "outputs": [
    {
     "name": "stdout",
     "output_type": "stream",
     "text": [
      "Quantidade de números digitados: 4\n",
      "Somatória dos números: 43\n",
      "Média dos números: 10.75\n"
     ]
    }
   ],
   "source": [
    "quantidade = 0\n",
    "soma = 0\n",
    "\n",
    "while True:\n",
    "    numero = int(input(\"Digite um número (0 para sair): \"))\n",
    "    if numero == 0:\n",
    "        break\n",
    "    quantidade = quantidade + 1\n",
    "    soma = soma + numero\n",
    "\n",
    "print(f\"Quantidade de números digitados: {quantidade}\")\n",
    "print(f\"Somatória dos números: {soma}\")\n",
    "print(f\"Média dos números: {soma/quantidade}\")"
   ]
  },
  {
   "cell_type": "code",
   "execution_count": 12,
   "metadata": {},
   "outputs": [
    {
     "name": "stdout",
     "output_type": "stream",
     "text": [
      "A somatória será : 20\n"
     ]
    }
   ],
   "source": [
    "somatoria = 0\n",
    "for x in range (0,10):\n",
    "    numero = int(input(\"Digite 10 números: \"))\n",
    "    somatoria = somatoria + numero\n",
    "print (f\"A somatória será : {somatoria}\")"
   ]
  },
  {
   "cell_type": "code",
   "execution_count": 34,
   "metadata": {},
   "outputs": [
    {
     "name": "stdout",
     "output_type": "stream",
     "text": [
      "1/1 = 1.00\n",
      "1/2 = 0.50\n",
      "1/3 = 0.33\n",
      "1/4 = 0.25\n",
      "1/5 = 0.20\n",
      "1/6 = 0.17\n",
      "1/7 = 0.14\n",
      "1/8 = 0.12\n",
      "1/9 = 0.11\n",
      "1/10 = 0.10\n"
     ]
    }
   ],
   "source": [
    "while True:\n",
    "    n = int(input(\"Digite um número: \"))\n",
    "    if n > 0:\n",
    "        break\n",
    "somatoria = 0\n",
    "for x in range(1,n+1):\n",
    "    somatoria = somatoria + 1 / x\n",
    "    print(f\"1/{x} = {1/x:.2f}\")"
   ]
  },
  {
   "cell_type": "code",
   "execution_count": null,
   "metadata": {},
   "outputs": [],
   "source": [
    "# Inicializa as variáveis\n",
    "total_alunos = 80\n",
    "aprovados = 0\n",
    "soma_notas = 0.0\n",
    "\n",
    "# Loop para ler as 80 notas\n",
    "for i in range(total_alunos):\n",
    "    while True:\n",
    "        nota = float(input(f\"Digite a nota do aluno {i+1} (0 a 10): \"))\n",
    "        if 0 <= nota <= 10:\n",
    "            break\n",
    "        else:\n",
    "            print(\"Nota inválida. Digite uma nota entre 0 e 10.\")\n",
    "    \n",
    "    # Verifica se o aluno foi aprovado\n",
    "    if nota >= 6.0:\n",
    "        aprovados += 1\n",
    "    \n",
    "    # Acumula a soma das notas\n",
    "    soma_notas += nota\n",
    "\n",
    "media = soma_notas / total_alunos\n",
    "\n",
    "print(f\"Quantidade de alunos aprovados: {aprovados}\")\n",
    "print(f\"Média das notas da turma: {media:.2f}\")"
   ]
  },
  {
   "cell_type": "code",
   "execution_count": null,
   "metadata": {},
   "outputs": [],
   "source": [
    "# Inicializa as variáveis\n",
    "soma_idade = 0\n",
    "quantidade_pessoas = 0\n",
    "soma_salario_homens = 0\n",
    "quantidade_homens = 0\n",
    "quantidade_mulheres_abaixo_600 = 0\n",
    "\n",
    "# Loop para ler os dados\n",
    "while True:\n",
    "    idade = int(input(\"Digite a idade (ou um número negativo para sair): \"))\n",
    "    \n",
    "    # Verifica se a idade é negativa para encerrar o loop\n",
    "    if idade < 0:\n",
    "        break\n",
    "    \n",
    "    sexo = input(\"Digite o sexo (M/F): \").upper()\n",
    "    salario = float(input(\"Digite o salário: R$ \"))\n",
    "    \n",
    "    # Atualiza a soma das idades e a quantidade de pessoas\n",
    "    soma_idade += idade\n",
    "    quantidade_pessoas += 1\n",
    "    \n",
    "    # Verifica o sexo para calcular a média de salários dos homens\n",
    "    if sexo == 'M':\n",
    "        soma_salario_homens += salario\n",
    "        quantidade_homens += 1\n",
    "    \n",
    "    # Verifica se é uma mulher com salário abaixo de R$600,00\n",
    "    if sexo == 'F' and salario < 600:\n",
    "        quantidade_mulheres_abaixo_600 += 1\n",
    "\n",
    "# Calcula as médias\n",
    "if quantidade_pessoas > 0:\n",
    "    media_idade = soma_idade / quantidade_pessoas\n",
    "else:\n",
    "    media_idade = 0\n",
    "\n",
    "if quantidade_homens > 0:\n",
    "    media_salario_homens = soma_salario_homens / quantidade_homens\n",
    "else:\n",
    "    media_salario_homens = 0\n",
    "\n",
    "# Exibe os resultados\n",
    "print(f\"Média de idade do grupo: {media_idade:.2f} anos\")\n",
    "print(f\"Média de salários dos homens: R$ {media_salario_homens:.2f}\")\n",
    "print(f\"Quantidade de mulheres com salário abaixo de R$600,00: {quantidade_mulheres_abaixo_600}\")"
   ]
  }
 ],
 "metadata": {
  "kernelspec": {
   "display_name": "Python 3",
   "language": "python",
   "name": "python3"
  },
  "language_info": {
   "codemirror_mode": {
    "name": "ipython",
    "version": 3
   },
   "file_extension": ".py",
   "mimetype": "text/x-python",
   "name": "python",
   "nbconvert_exporter": "python",
   "pygments_lexer": "ipython3",
   "version": "3.12.6"
  }
 },
 "nbformat": 4,
 "nbformat_minor": 2
}
