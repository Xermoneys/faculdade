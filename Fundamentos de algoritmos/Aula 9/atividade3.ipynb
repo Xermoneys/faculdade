{
 "cells": [
  {
   "cell_type": "code",
   "execution_count": null,
   "metadata": {},
   "outputs": [],
   "source": [
    "#Faça uma função chamada media que receba três notas de um aluno como parâmetros e uma letra. \n",
    "#Se a letra for A, a função deverá calcular a média aritmética das notas do aluno; \n",
    "#se for P deverá calcular a média ponderada com pesos 5, 3 e 2. \n",
    "#A média calculada deve ser devolvida à função principal para, então, ser impressa.\n",
    " \n",
    "#Exemplo de entrada:\n",
    "#2\n",
    "#3\n",
    "#4\n",
    "#A\n",
    " \n",
    "#Exemplo de saída:\n",
    "#3.0\n",
    "\n",
    "def media(n1, n2, n3, letra):\n",
    "    if letra == 'A':\n",
    "        media = (n1 + n2 + n3) / 3\n",
    "    elif letra == 'P':\n",
    "        media = (n1 * 5 + n2 * 3 + n3 * 2) / (5 + 3 + 2)\n",
    "    else:\n",
    "        raise ValueError(\"Letra inválida. Use 'A' para média aritmética ou 'P' para média ponderada.\")\n",
    "    \n",
    "    return media\n",
    "\n"
   ]
  },
  {
   "cell_type": "code",
   "execution_count": 1,
   "metadata": {},
   "outputs": [],
   "source": [
    "#Escreva uma função que recebe uma lista de números inteiros e retorne uma nova lista que contém o quadrado de cada um desses números. Você só precisa entregar o código da função.\n",
    "#print(quadrado([1, 2, 3, 4, 5, 6, 7]))\n",
    "#[1, 4, 9, 16, 25, 36, 49]\n",
    "\n",
    "def quadrado(lista):\n",
    "    return [x ** 2 for x in lista]\n",
    "\n"
   ]
  },
  {
   "cell_type": "code",
   "execution_count": null,
   "metadata": {},
   "outputs": [],
   "source": [
    "#Crie um programa que leia números inteiros do usuário até que o número 0 seja inserido. \n",
    "#Uma vez que todos os números inteiros tenham sido lidos, seu programa deve exibir todos os números negativos, seguidos por todos os números positivos.\n",
    "#Dentro de cada grupo, os números devem ser exibidos na mesma ordem em que foram inseridos pelo usuário\n",
    "\n",
    "def main():\n",
    "    numeros = []\n",
    "    while True:\n",
    "        n = int(input(\"Digite um número inteiro (0 para sair): \"))\n",
    "        if n == 0:\n",
    "            break\n",
    "        numeros.append(n)\n",
    "    \n",
    "    negativos = [n for n in numeros if n < 0]\n",
    "    positivos = [n for n in numeros if n >= 0]\n",
    "    \n",
    "    print(\"Números negativos:\", negativos)\n",
    "    print(\"Números positivos:\", positivos)"
   ]
  }
 ],
 "metadata": {
  "kernelspec": {
   "display_name": "base",
   "language": "python",
   "name": "python3"
  },
  "language_info": {
   "codemirror_mode": {
    "name": "ipython",
    "version": 3
   },
   "file_extension": ".py",
   "mimetype": "text/x-python",
   "name": "python",
   "nbconvert_exporter": "python",
   "pygments_lexer": "ipython3",
   "version": "3.12.7"
  }
 },
 "nbformat": 4,
 "nbformat_minor": 2
}
