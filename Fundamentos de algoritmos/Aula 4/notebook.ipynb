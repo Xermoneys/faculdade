{
 "cells": [
  {
   "cell_type": "code",
   "execution_count": 2,
   "metadata": {},
   "outputs": [
    {
     "name": "stdout",
     "output_type": "stream",
     "text": [
      "Triângulo equilátero\n"
     ]
    }
   ],
   "source": [
    "a = int(input(\"Digite o lado A: \"))\n",
    "b = int(input(\"Digite o lado B: \"))\n",
    "c = int(input(\"Digite o lado C: \"))\n",
    "\n",
    "if a < b + c and b < a + c and c < a + b:\n",
    "    if a == b and b == c:\n",
    "        print(\"Triângulo equilátero\")\n",
    "elif a == b or a == c or b == c:\n",
    "    print(\"Triângulo isóceles\")\n",
    "elif a != b and b != c and a != c:\n",
    "    print(\"Triângulo escaleno\")\n",
    "else:\n",
    "    print(\"Não é um triângulo\")"
   ]
  },
  {
   "cell_type": "code",
   "execution_count": 6,
   "metadata": {},
   "outputs": [
    {
     "name": "stdout",
     "output_type": "stream",
     "text": [
      "Origem inválida\n"
     ]
    },
    {
     "ename": "NameError",
     "evalue": "name 'origem' is not defined",
     "output_type": "error",
     "traceback": [
      "\u001b[1;31m---------------------------------------------------------------------------\u001b[0m",
      "\u001b[1;31mNameError\u001b[0m                                 Traceback (most recent call last)",
      "Cell \u001b[1;32mIn[6], line 24\u001b[0m\n\u001b[0;32m     20\u001b[0m \u001b[38;5;28;01melse\u001b[39;00m:\n\u001b[0;32m     21\u001b[0m     \u001b[38;5;28mprint\u001b[39m (\u001b[38;5;124m\"\u001b[39m\u001b[38;5;124mOrigem inválida\u001b[39m\u001b[38;5;124m\"\u001b[39m)\n\u001b[1;32m---> 24\u001b[0m \u001b[38;5;28mprint\u001b[39m (\u001b[38;5;124mf\u001b[39m\u001b[38;5;124m\"\u001b[39m\u001b[38;5;124mPreço final: \u001b[39m\u001b[38;5;132;01m{\u001b[39;00mpreço\u001b[38;5;132;01m:\u001b[39;00m\u001b[38;5;124m.2f\u001b[39m\u001b[38;5;132;01m}\u001b[39;00m\u001b[38;5;124m R$ | Origem:\u001b[39m\u001b[38;5;132;01m{\u001b[39;00morigem\u001b[38;5;132;01m}\u001b[39;00m\u001b[38;5;124m\"\u001b[39m)\n",
      "\u001b[1;31mNameError\u001b[0m: name 'origem' is not defined"
     ]
    }
   ],
   "source": [
    "preço = float(input(\"Digite o preço do produto: \"))\n",
    "codigo = int(input(\"Digite o código de origem do produto: \"))\n",
    "\n",
    "if codigo == 1:\n",
    "    print (f\"Preço final: {preço:.2f} R$ | Origem:Sul\")\n",
    "elif codigo == 2: \n",
    "    print (f\"Preço final: {preço:.2f} R$ | Origem: Norte\")\n",
    "elif codigo == 3:\n",
    "    print (f\"Preço final: {preço:.2f} R$ | Origem:Leste\")\n",
    "elif codigo == 4:\n",
    "    print (f\"Preço final: {preço:.2f} R$ | Origem: Oeste\")\n",
    "elif codigo == 5 and 6:\n",
    "    print (f\"Preço final: {preço:.2f} R$ | Origem: Noroeste\")\n",
    "elif codigo >= 7 and codigo <= 9:\n",
    "    print (f\"Preço final: {preço:.2f} R$ | Origem: Sudeste\")\n",
    "elif codigo >= 10 and codigo <= 20:\n",
    "    print (f\"Preço final: {preço:.2f} R$ | Origem:Centro-Oeste\")\n",
    "elif codigo >= 25 and codigo <= 30:\n",
    "    print (f\"Preço final: {preço:.2f} R$ | Origem:Nordeste\")\n",
    "else:\n",
    "    print (\"Origem inválida\")\n",
    "\n"
   ]
  },
  {
   "cell_type": "code",
   "execution_count": 19,
   "metadata": {},
   "outputs": [
    {
     "name": "stdout",
     "output_type": "stream",
     "text": [
      "4 > 2 > 1\n"
     ]
    }
   ],
   "source": [
    "a = int (input(\"A:\"))\n",
    "b = int (input(\"B: \"))\n",
    "c = int (input(\"C:\"))\n",
    "\n",
    "if a > b and a > c:\n",
    "    if b > c:\n",
    "        print(f\"{a} > {b} > {c}\")\n",
    "    elif c > b:\n",
    "        print(f\"{a} > {c} > {b}\")\n",
    "elif b > a and b > c:\n",
    "    if a > c:\n",
    "        print (f\"{b} > {a} > {c} \")\n",
    "    elif c > a:\n",
    "        print (f\"{b} > {c} > {a}\")\n",
    "elif c > a and c > b:\n",
    "    if a > b:\n",
    "        print(f\"{c} > {a} > {b}\")\n",
    "    elif b > a:\n",
    "        print (f\"{c} > {b} > {a}\")"
   ]
  },
  {
   "cell_type": "code",
   "execution_count": 20,
   "metadata": {},
   "outputs": [
    {
     "ename": "TypeError",
     "evalue": "unsupported operand type(s) for -: 'tuple' and 'int'",
     "output_type": "error",
     "traceback": [
      "\u001b[1;31m---------------------------------------------------------------------------\u001b[0m",
      "\u001b[1;31mTypeError\u001b[0m                                 Traceback (most recent call last)",
      "Cell \u001b[1;32mIn[20], line 5\u001b[0m\n\u001b[0;32m      2\u001b[0m sexo \u001b[38;5;241m=\u001b[39m \u001b[38;5;28mstr\u001b[39m(\u001b[38;5;28minput\u001b[39m(\u001b[38;5;124m\"\u001b[39m\u001b[38;5;124mDigite seu sexo: \u001b[39m\u001b[38;5;124m\"\u001b[39m))\n\u001b[0;32m      4\u001b[0m \u001b[38;5;28;01mif\u001b[39;00m sexo \u001b[38;5;241m==\u001b[39m \u001b[38;5;124m\"\u001b[39m\u001b[38;5;124mM\u001b[39m\u001b[38;5;124m\"\u001b[39m \u001b[38;5;129;01mor\u001b[39;00m sexo \u001b[38;5;241m==\u001b[39m \u001b[38;5;124m\"\u001b[39m\u001b[38;5;124mm\u001b[39m\u001b[38;5;124m\"\u001b[39m:\n\u001b[1;32m----> 5\u001b[0m     peso \u001b[38;5;241m=\u001b[39m (\u001b[38;5;241m72\u001b[39m,\u001b[38;5;241m7\u001b[39m \u001b[38;5;241m*\u001b[39m altura) \u001b[38;5;241m-\u001b[39m \u001b[38;5;241m58\u001b[39m\n\u001b[0;32m      6\u001b[0m \u001b[38;5;28;01melif\u001b[39;00m sexo \u001b[38;5;241m==\u001b[39m \u001b[38;5;124m\"\u001b[39m\u001b[38;5;124mF\u001b[39m\u001b[38;5;124m\"\u001b[39m \u001b[38;5;129;01mor\u001b[39;00m sexo \u001b[38;5;241m==\u001b[39m \u001b[38;5;124m\"\u001b[39m\u001b[38;5;124mf\u001b[39m\u001b[38;5;124m\"\u001b[39m: \n\u001b[0;32m      7\u001b[0m     peso \u001b[38;5;241m=\u001b[39m (\u001b[38;5;241m62\u001b[39m,\u001b[38;5;241m1\u001b[39m \u001b[38;5;241m*\u001b[39m altura) \u001b[38;5;241m-\u001b[39m \u001b[38;5;241m44\u001b[39m,\u001b[38;5;241m7\u001b[39m\n",
      "\u001b[1;31mTypeError\u001b[0m: unsupported operand type(s) for -: 'tuple' and 'int'"
     ]
    }
   ],
   "source": [
    "altura = float(input(\"Digite sua altura: \"))\n",
    "sexo = str(input(\"Digite seu sexo: \"))\n",
    "\n",
    "if sexo == \"M\" or sexo == \"m\":\n",
    "    peso = (72,7 * altura) - 58\n",
    "elif sexo == \"F\" or sexo == \"f\": \n",
    "    peso = (62,1 * altura) - 44,7\n",
    "\n",
    "print(f\"Peso ideal: {peso:.2f}\")"
   ]
  },
  {
   "cell_type": "code",
   "execution_count": 13,
   "metadata": {},
   "outputs": [
    {
     "name": "stdout",
     "output_type": "stream",
     "text": [
      "Você já tem idade para votar.\n"
     ]
    }
   ],
   "source": [
    "idade = int(input(\"Digite a idade: \"))\n",
    "\n",
    "if idade >= 16:\n",
    "    print(\"Você já tem idade para votar.\")\n",
    "elif idade  >= 18:\n",
    "    print(\"Você já pode tirar sua carteira de habilitação\")"
   ]
  }
 ],
 "metadata": {
  "kernelspec": {
   "display_name": "base",
   "language": "python",
   "name": "python3"
  },
  "language_info": {
   "codemirror_mode": {
    "name": "ipython",
    "version": 3
   },
   "file_extension": ".py",
   "mimetype": "text/x-python",
   "name": "python",
   "nbconvert_exporter": "python",
   "pygments_lexer": "ipython3",
   "version": "3.12.7"
  }
 },
 "nbformat": 4,
 "nbformat_minor": 2
}
