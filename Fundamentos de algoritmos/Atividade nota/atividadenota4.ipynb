{
 "cells": [
  {
   "cell_type": "code",
   "execution_count": null,
   "metadata": {},
   "outputs": [],
   "source": [
    "#ex1\n",
    "letra = input(\"Digite a letra desejada: \")\n",
    "if letra == \"a\" or letra == \"e\" or letra == \"i\" or letra == \"o\" or letra == \"u\":\n",
    "    print(\"Essa letra é uma vogal\")\n",
    "else: \n",
    "    print(\"Essa letra é uma consoante.\")"
   ]
  },
  {
   "cell_type": "code",
   "execution_count": 4,
   "metadata": {},
   "outputs": [
    {
     "name": "stdout",
     "output_type": "stream",
     "text": [
      "Tarifa: 14.00\n"
     ]
    }
   ],
   "source": [
    "#ex2\n",
    "qnt_quilometro = int(input(\"Digite a quantidade de quilômetros: \"))\n",
    "tarifa_inicial = 10\n",
    "if qnt_quilometro >= 1:\n",
    "    tarifa_inicial += qnt_quilometro * 4\n",
    "print(f\"Tarifa: {tarifa_inicial:.2f}\")\n",
    "\n",
    "\n",
    "\n"
   ]
  },
  {
   "cell_type": "code",
   "execution_count": 11,
   "metadata": {},
   "outputs": [
    {
     "name": "stdout",
     "output_type": "stream",
     "text": [
      "Peso em Mercúrio: 31.82 \n"
     ]
    }
   ],
   "source": [
    "#ex3\n",
    "nome_planeta = input(\"Digite o nome do planeta desejado: \")\n",
    "peso_terra = float(input(\"Digite o peso da pessoa na Terra em kg: \"))\n",
    "peso_venus = 0\n",
    "peso_mercurio = 0\n",
    "peso_jupiter = 0\n",
    "if nome_planeta == \"Vênus\":\n",
    "    peso_venus = peso_terra * 0.88\n",
    "    print(f\"Peso em Vênus: {peso_venus:.2f}\")\n",
    "elif nome_planeta == \"Júpiter\":\n",
    "    peso_jupiter = peso_terra * 2.64\n",
    "    print(f\"Peso em Júpiter: {peso_jupiter:.2f}\")\n",
    "elif nome_planeta == \"Mercúrio\":\n",
    "    peso_mercurio = peso_terra * 0.37\n",
    "    print(f\"Peso em Mercúrio: {peso_mercurio:.2f} \")"
   ]
  },
  {
   "cell_type": "code",
   "execution_count": null,
   "metadata": {},
   "outputs": [],
   "source": [
    "#ex4\n",
    "n = int(input(\"Digite a quantidade de linhas: \"))\n",
    "contagem = 1\n",
    "for i in range(n):\n",
    "    for i in range(3):\n",
    "        print(contagem, end=' ')\n",
    "        contagem = contagem + 1\n",
    "    print(\"PIM\")\n",
    "    contagem = contagem + 1 \n",
    "print()   "
   ]
  },
  {
   "cell_type": "code",
   "execution_count": 12,
   "metadata": {},
   "outputs": [
    {
     "name": "stdout",
     "output_type": "stream",
     "text": [
      "0 1 2 3 "
     ]
    }
   ],
   "source": [
    "#ex5\n",
    "for i in range(5):\n",
    "    if i == 4:\n",
    "        break\n",
    "    else:\n",
    "        print(i,end=\" \")\n",
    "else:\n",
    "    print(\"Aqui\", end=\" \")"
   ]
  },
  {
   "cell_type": "code",
   "execution_count": 13,
   "metadata": {},
   "outputs": [
    {
     "name": "stdout",
     "output_type": "stream",
     "text": [
      "0\n",
      "1\n",
      "2\n",
      "0\n"
     ]
    }
   ],
   "source": [
    "#ex6\n",
    "i = 0\n",
    "while i < 5:\n",
    "    print(i)\n",
    "    i += 1\n",
    "    if i == 3:\n",
    "        print(0)\n",
    "        break\n",
    "else:\n",
    "    print(0)"
   ]
  },
  {
   "cell_type": "code",
   "execution_count": null,
   "metadata": {},
   "outputs": [
    {
     "name": "stdout",
     "output_type": "stream",
     "text": [
      "Matriz resultante:\n",
      "  4  8\n",
      " 12 16\n"
     ]
    }
   ],
   "source": [
    "#ex7 - deepseek\n",
    "# Criar a matriz 2x2\n",
    "matriz = []\n",
    "for i in range(2):\n",
    "    linha = []\n",
    "    for j in range(2):\n",
    "        valor = int(input(f\"Digite o elemento de linha {i} e coluna {j}: \"))\n",
    "        linha.append(valor)\n",
    "    matriz.append(linha)\n",
    "\n",
    "# Encontrar o maior elemento\n",
    "maior = max(max(linha) for linha in matriz)\n",
    "\n",
    "# Calcular a matriz resultante\n",
    "resultante = [[elemento * maior for elemento in linha] for linha in matriz]\n",
    "\n",
    "# Imprimir a matriz formatada\n",
    "print(\"Matriz resultante:\")\n",
    "for linha in resultante:\n",
    "    print(\"\".join(f\"{elemento:3d}\" for elemento in linha))"
   ]
  },
  {
   "cell_type": "code",
   "execution_count": null,
   "metadata": {},
   "outputs": [],
   "source": [
    "#ex7 - eu\n",
    "M = []\n",
    "for linha in range(2):\n",
    "    for coluna in range(2):\n",
    "        numeros = int(input(f\"Digite o elemento da linha {linha} e coluna {coluna}: \"))\n",
    "        M.append(numeros)\n",
    "def maximo_elemento (matriz,maximo):\n",
    "    maior_elemento = max(max(linha)for linha in M)\n",
    "\n",
    "matriz = []\n",
    "contador = 0\n",
    "for i in range(2):\n",
    "    linha = []\n",
    "    for j in range(2):\n",
    "        linha.append(M[contador])\n",
    "        contador += 1\n",
    "    matriz.append(linha)\n",
    "\n",
    "\n",
    "print(\"Matriz resultante:\")\n",
    "for linha in matriz:\n",
    "    for elemento in linha:\n",
    "        print(f'{elemento}',end=\" \")\n",
    "    print()"
   ]
  },
  {
   "cell_type": "code",
   "execution_count": 1,
   "metadata": {},
   "outputs": [
    {
     "name": "stdout",
     "output_type": "stream",
     "text": [
      "   1   2   4   8\n",
      "   2   4   8  16\n",
      "   4   8  16  32\n",
      "   8  16  32  64\n"
     ]
    }
   ],
   "source": [
    "#ex8 - deepseek\n",
    "n = int(input(\"Digite a ordem da matriz: \"))\n",
    "matriz = []\n",
    "for i in range(n):\n",
    "    linha = []\n",
    "    atual = 2 ** i\n",
    "    for _ in range(n):\n",
    "        linha.append(atual)\n",
    "        atual *= 2\n",
    "    matriz.append(linha)\n",
    "\n",
    "for linha in matriz:\n",
    "    print(\"\".join(f\"{numero:4d}\" for numero in linha))"
   ]
  },
  {
   "cell_type": "code",
   "execution_count": null,
   "metadata": {},
   "outputs": [
    {
     "ename": "TypeError",
     "evalue": "can only concatenate list (not \"int\") to list",
     "output_type": "error",
     "traceback": [
      "\u001b[1;31m---------------------------------------------------------------------------\u001b[0m",
      "\u001b[1;31mTypeError\u001b[0m                                 Traceback (most recent call last)",
      "Cell \u001b[1;32mIn[33], line 6\u001b[0m\n\u001b[0;32m      4\u001b[0m     linha \u001b[38;5;241m=\u001b[39m []\n\u001b[0;32m      5\u001b[0m     \u001b[38;5;28;01mfor\u001b[39;00m coluna \u001b[38;5;129;01min\u001b[39;00m \u001b[38;5;28mrange\u001b[39m(ordem):\n\u001b[1;32m----> 6\u001b[0m         linha\u001b[38;5;241m.\u001b[39mappend(linha\u001b[38;5;241m+\u001b[39mcoluna)\n\u001b[0;32m      7\u001b[0m     M\u001b[38;5;241m.\u001b[39mappend(linha)\n\u001b[0;32m      9\u001b[0m \u001b[38;5;28;01mfor\u001b[39;00m linha \u001b[38;5;129;01min\u001b[39;00m \u001b[38;5;28mrange\u001b[39m(\u001b[38;5;28mlen\u001b[39m(M)):\n",
      "\u001b[1;31mTypeError\u001b[0m: can only concatenate list (not \"int\") to list"
     ]
    }
   ],
   "source": [
    "#ex8 - tentei fazer\n",
    "M = []\n",
    "ordem = int(input(\"Digite a ordem da matriz: \"))\n",
    "for linha in range(ordem):\n",
    "    for coluna in range(ordem):\n",
    "        linha.append(linha+coluna)\n",
    "    M.append(linha)\n",
    "\n",
    "for linha in range(len(M)):\n",
    "    for coluna in range(len(M[linha])):\n",
    "        print(\"%4d\" % M[linha][coluna], end=\" \")\n",
    "    print()"
   ]
  }
 ],
 "metadata": {
  "kernelspec": {
   "display_name": "base",
   "language": "python",
   "name": "python3"
  },
  "language_info": {
   "codemirror_mode": {
    "name": "ipython",
    "version": 3
   },
   "file_extension": ".py",
   "mimetype": "text/x-python",
   "name": "python",
   "nbconvert_exporter": "python",
   "pygments_lexer": "ipython3",
   "version": "3.12.7"
  }
 },
 "nbformat": 4,
 "nbformat_minor": 2
}
