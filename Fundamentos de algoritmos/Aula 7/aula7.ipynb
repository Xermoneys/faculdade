{
 "cells": [
  {
   "cell_type": "markdown",
   "metadata": {},
   "source": [
    "# Funções\n",
    "\n",
    "- Funções são blocos de instruções que realizam tarefas específicas\n",
    "- As funções são utilizadas quando é interessante agrupar instruções muito utilizadas. \n",
    "- Para usar uma função basta defini-la e invoca-la utilizando seu nome em qualquer ponto do código. \n",
    "\n",
    "Um exemplo simples de função é dado abaixo. Esta função soma dois números `x` e `y` e retorna o resultado da soma. \n",
    "\n",
    "```python\n",
    "def soma(x, y):\n",
    "    resultado = x + y\n",
    "    return resultado\n",
    "\n",
    "print(soma(1,2))\n",
    "```\n",
    "\n",
    "As funções são compostas por:\n",
    "- `def` - Palavra reservada que indica a definição de uma função\n",
    "- `soma` - Nome da função, por exemplo soma. \n",
    "- `x` e `y` - Parâmetros da função. Podem ou não existir, podem ou não ter valor padrão. \n",
    "- `resultado = x + y` - Corpo da função (Conjunto de 1 ou mais instruções)\n",
    "- `return resultado` - Retorno da função, que pode ou não existir. \n",
    "- `soma(1,2)` - Chamada da função passandos os valores 1 e 2 para os parâmetros da função. \n"
   ]
  },
  {
   "cell_type": "markdown",
   "metadata": {},
   "source": [
    "# Exercícios"
   ]
  },
  {
   "cell_type": "code",
   "execution_count": null,
   "metadata": {},
   "outputs": [],
   "source": [
    "# Exercício 1\n",
    "# Crie uma função que calcule a média de dois números\n",
    "#  ▶ Sua função deve receber dois números como parâmetros de entrada\n",
    "#  ▶ Deve imprimir o resultado da média\n",
    "\n"
   ]
  },
  {
   "cell_type": "code",
   "execution_count": null,
   "metadata": {},
   "outputs": [],
   "source": [
    "# Exercício 2\n",
    "# Adapte a função para calcular a média criada anteriormente.\n",
    "#  ▶ Faça com que ela retorne o resultado da média para o chamador da\n",
    "#  função.\n",
    "\n",
    "def media (x:float,y:float):\n",
    "    \"\"\"\n",
    "    Calcula a média de dois números \n",
    "\n",
    "    Args: \n",
    "        x (float)= Primeiro número \n",
    "        y (float)= Segundo número \n",
    "\n",
    "    Return:\n",
    "        res (float)= Média dos dois números\n",
    "    \"\"\"\n",
    "    res:float = (x+y)/2\n",
    "    return res\n",
    "print(f\"A média de 10 e 20 é {media(10,20)}\")\n",
    "print(f\"A média de 3.1 e 5.7 é {media(3.1,5.7)}\")"
   ]
  },
  {
   "cell_type": "code",
   "execution_count": null,
   "metadata": {},
   "outputs": [],
   "source": [
    "# Exercício 03\n",
    "# Escreva uma função com parâmetros que retorne o maior de dois\n",
    "# números.\n",
    "# ▶ A função deve se chamar maximo(x, y)\n",
    "\n",
    "def maximo (x,y):\n",
    "    if x > y :\n",
    "        return x \n",
    "    else:\n",
    "        return y\n",
    "maximo = lambda x: x if x > y else y\n"
   ]
  },
  {
   "cell_type": "code",
   "execution_count": null,
   "metadata": {},
   "outputs": [],
   "source": [
    "# Exercício 04\n",
    "# Escreva uma função com parâmetros chamada multiplo(x, y).\n",
    "# ▶ Esta função deve receber dois números\n",
    "# ▶ Retornar True se o primeiro for múltiplo do segundo número;\n",
    "# ▶ Retornar False caso contrário.\n",
    "\n",
    "def multiplo (x,y):\n",
    "    if x % y == 0:\n",
    "        return True\n",
    "    else:\n",
    "        return False\n",
    "\n",
    "multiplo = lambda x,y: True if x % y == 0 else False"
   ]
  },
  {
   "cell_type": "code",
   "execution_count": null,
   "metadata": {},
   "outputs": [],
   "source": [
    "# Exercício 05\n",
    "# Escreva uma função com parâmetros que:\n",
    "# ▶ Receba a base e a altura de um triângulo e retorne sua área\n",
    "\n",
    "def area_trinagulo(base,altura):\n",
    "    return (base*altura)/2\n",
    "\n",
    "area_trinagulo = lambda base,altura: (base*altura)/2"
   ]
  },
  {
   "cell_type": "code",
   "execution_count": null,
   "metadata": {},
   "outputs": [],
   "source": [
    "# Exercício 06\n",
    "# Faça um programa que:\n",
    "# ▶ Leia três números e apresente o resultado do seguinte cálculo:\n",
    "# √n1 +√n2 +√n3 + (n1 +n2)/2+ (n2 +n3)/2 + (n1 +n3)/2\n",
    "# Import a função sqrt do módulo math se necessário.\n"
   ]
  },
  {
   "cell_type": "markdown",
   "metadata": {},
   "source": [
    "# Variáveis locais e variáveis globais.\n",
    "\n",
    "- Quando usamos funções, trabalhamos com variáveis internas, que pertencem somente à função.\n",
    "- Estas variáveis internas são chamadas variáveis locais\n",
    "- Não podemos acessar os valores das variáveis locais fora da função a que elas pertencem.\n",
    "- É por isso que passamos parâmetros e retornamos valores das funções. \n",
    "- Os parâmetros e o return possibilitam a troca de dados no programa\n",
    "\n",
    "Exemplo:\n",
    "\n",
    "```python\n",
    "a = 5 # Definição de a no escopo global\n",
    "\n",
    "def alteraValor():\n",
    "    a = 7 # Definição de a no escopo local da função alteraValor\n",
    "    print(\"Denttro da função a vale: \", a)\n",
    "\n",
    "print(\"a antes da chamada da função: \", a)\n",
    "alteraValor()\n",
    "print(\"a depois da chamada da função: \", a)\n",
    "```\n",
    "\n",
    "- Por usa vez, as variáveis globais são definidas fora das funções e podem ser vistas e acessadas por todas as funções e pelo “código principal” (que não está dentro de uma função específica)\n",
    "- Se quisermos modificar a variável global dentro da função devemos utilizar a palavra chave global\n",
    "\n",
    "Exemplo:\n",
    "\n",
    "```python\n",
    "a = 5 # Definição de a no escopo global\n",
    "\n",
    "def alteraValor():\n",
    "    global a\n",
    "    a = 7 # Definição de a no escopo local da função alteraValor\n",
    "    print(\"Denttro da função a vale: \", a)\n",
    "\n",
    "print(\"a antes da chamada da função: \", a)\n",
    "alteraValor()\n",
    "print(\"a depois da chamada da função: \", a)\n",
    "```\n",
    "\n",
    "Podemos ainda criar funções que podem ou não receber argumentos. Exemplo:\n",
    "\n",
    "```python\n",
    "def soma(x = 1, y = 1):\n",
    "    resultado = x + y\n",
    "    return resultado\n",
    "\n",
    "print(soma(1,2))\n",
    "```\n"
   ]
  },
  {
   "cell_type": "code",
   "execution_count": null,
   "metadata": {},
   "outputs": [],
   "source": [
    "# Exercício 07\n",
    "# Existem restrições para que uma pessoa possa doar sangue. Uma\n",
    "# delas é relativa ao peso. Mulheres tem que pesar no mínimo\n",
    "# 50kg e homens no mínimo 60kg. Faça uma função para informar\n",
    "# se uma pessoa está ou não apta a doar sangue sabendo seu sexo\n",
    "# e seu peso.\n",
    "# O programa principal deve ler as entradas, acionar a função e\n",
    "# exibir a resposta.\n"
   ]
  },
  {
   "cell_type": "code",
   "execution_count": null,
   "metadata": {},
   "outputs": [],
   "source": [
    "# Exercício 08\n",
    "# Uma data é considerada mágica quando o dia multiplicado pelo\n",
    "# mês é igual ao ano de dois dígitos.\n",
    "# Por exemplo, 10 de junho de 1960 é uma data mágica porque\n",
    "# junho é o sexto mês e 6 vezes 10 é 60, o que equivale ao ano\n",
    "# de dois dígitos.\n",
    "# Escreva uma função que determine se uma data é ou não uma data\n",
    "# mágica.\n",
    "# Exemplo\n",
    "\n"
   ]
  },
  {
   "cell_type": "code",
   "execution_count": null,
   "metadata": {},
   "outputs": [],
   "source": [
    "# Exercício 09\n",
    "# Use a função criada no exercício anterior\n",
    "# Exiba todas as datas mágicas do século XX.\n",
    "# Ou seja, do ano 1901 à 2000\n"
   ]
  },
  {
   "cell_type": "markdown",
   "metadata": {},
   "source": [
    "# Funções Lambda\n",
    "No Python, podemos criar funções simples em somente uma linha\n",
    "Estas funções, ou expressões, são chamadas de lambda\n",
    "Sintaxe:\n",
    "<nome_da_função> = lambda <parâmetros> : <expressão>\n",
    "Exemplo:\n"
   ]
  },
  {
   "cell_type": "code",
   "execution_count": null,
   "metadata": {},
   "outputs": [],
   "source": [
    "# Exercício 10\n",
    "# Refaça os exercícios 3, 4, e 5 utilizando função lambda"
   ]
  },
  {
   "cell_type": "code",
   "execution_count": null,
   "metadata": {},
   "outputs": [],
   "source": [
    "# Exercício 11\n",
    "# Faça uma função que receba quatro valores: I, A, B e C.\n",
    "# Destes valores, I é um valor inteiro valendo 1, 2 ou 3. A, B\n",
    "# e C são valores reais. Escreva os números A, B e C obedecendo\n",
    "# à tabela a seguir, dependendo do valor de I\n",
    "\n",
    "# - Valor de I = 1 -> A, B e C em ordem crescente\n",
    "# - Valor de I = 2 -> A, B e C em ordem decrescente\n",
    "# - Valor de I = 3 -> O maior fica entre os outros dois números\n"
   ]
  },
  {
   "cell_type": "code",
   "execution_count": null,
   "metadata": {},
   "outputs": [],
   "source": [
    "# Exercício 12\n",
    "# Escreva uma função que calcula o quociente e o resto da\n",
    "# divisão inteira entre dois números. Utilize apenas as\n",
    "# operações de soma e subtração para calcular o resultado.\n",
    "# Dica: utilize uma estrutura de repetição para isso.\n",
    "# Faça um programa principal que recebe o dividendo e o divisor\n",
    "# do usuário e, depois de chamar a função, exibe o quociente e o\n",
    "# resto.\n",
    "\n"
   ]
  },
  {
   "cell_type": "code",
   "execution_count": null,
   "metadata": {},
   "outputs": [],
   "source": [
    "# Exercício 13\n",
    "# Escreva uma função chamada exponencial que recebe um valor n\n",
    "# como parâmetro. Sua função deve encontrar e retornar b e k tal\n",
    "# que b^k = n e b seja o menor possível.\n",
    "\n",
    "def exponencial(n):\n",
    "    b=2 \n",
    "    while True:\n",
    "        k = 0\n",
    "        while b**k < n:\n",
    "            k += 1\n",
    "        if b**k == n:\n",
    "            return b,k\n",
    "        b = b + 1\n",
    "n = int(input(\"Digite um número: \"))\n",
    "b,k = exponencial(n)\n",
    "print(f\"b: {b}] k: [{k}\")"
   ]
  }
 ],
 "metadata": {
  "kernelspec": {
   "display_name": "Python 3",
   "language": "python",
   "name": "python3"
  },
  "language_info": {
   "codemirror_mode": {
    "name": "ipython",
    "version": 3
   },
   "file_extension": ".py",
   "mimetype": "text/x-python",
   "name": "python",
   "nbconvert_exporter": "python",
   "pygments_lexer": "ipython3",
   "version": "3.13.1"
  }
 },
 "nbformat": 4,
 "nbformat_minor": 2
}
