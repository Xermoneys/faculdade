{
 "cells": [
  {
   "cell_type": "code",
   "execution_count": 7,
   "id": "df49b7fc",
   "metadata": {},
   "outputs": [
    {
     "name": "stdout",
     "output_type": "stream",
     "text": [
      "Resultado: 120\n"
     ]
    }
   ],
   "source": [
    "#Faça um programa que receba valores inteiros do teclado até o usuário digitar zero e imprima a multiplicação de todos os valores digitados. \n",
    "#OBS: Considere que o usuário entrará com pelo menos 1 número válido diferente de 0\n",
    "\n",
    "soma = 1\n",
    "while True:\n",
    "    numero = int(input(\"Digite um número: \"))\n",
    "    if numero == 0:\n",
    "        break\n",
    "    soma *= numero\n",
    "print(f\"Resultado: {soma}\")"
   ]
  },
  {
   "cell_type": "code",
   "execution_count": 9,
   "id": "e17cb8b7",
   "metadata": {},
   "outputs": [
    {
     "name": "stdout",
     "output_type": "stream",
     "text": [
      "3.3\n"
     ]
    }
   ],
   "source": [
    "#Faça uma função chamada media que receba três notas de um aluno como parâmetros e uma letra. \n",
    "#- Se a letra for A, a função deverá calcular a média aritmética das notas do aluno; \n",
    "#- Se a letra for P deverá calcular a média ponderada com pesos 2, 3 e 5. \n",
    "# \n",
    "#A média calculada deve ser devolvida à função principal para, então, ser impressa. Defina apenas a função e nada mais. \n",
    "\n",
    "def media(n1,n2,n3,letra):\n",
    "    if letra == \"A\":\n",
    "        media_arit = (n1 + n2 + n3) / 3\n",
    "        return media_arit\n",
    "    elif letra == \"P\":\n",
    "        media_pond = (2*n1 + 3*n2 + 5*n3)/10\n",
    "        return media_pond\n",
    "    \n",
    "print(media(2,3,4,'P'))"
   ]
  }
 ],
 "metadata": {
  "kernelspec": {
   "display_name": "Python 3",
   "language": "python",
   "name": "python3"
  },
  "language_info": {
   "codemirror_mode": {
    "name": "ipython",
    "version": 3
   },
   "file_extension": ".py",
   "mimetype": "text/x-python",
   "name": "python",
   "nbconvert_exporter": "python",
   "pygments_lexer": "ipython3",
   "version": "3.12.6"
  }
 },
 "nbformat": 4,
 "nbformat_minor": 5
}
