{
 "cells": [
  {
   "cell_type": "markdown",
   "metadata": {},
   "source": [
    "# Teoria\n",
    "\n",
    "Strings são sequências de caracteres. A representação de um caractere é dada por um número inteiro, hexadecimal ou binário;\n",
    "Esse número segue um padrão conhecido entre diversos sistemas computacionais:\n",
    "- ASCII- American Stardard Code Information Interchange\n",
    "    - 7 bits (números de 0 a 127)\n",
    "    - ASCII Estendida: 8 bits (números de 0 a 255)\n",
    "- UTF- Unicode Transformation Format\n",
    "    - De 1 a 4 bytes por caractere (sempre octetos)\n"
   ]
  },
  {
   "cell_type": "code",
   "execution_count": null,
   "metadata": {},
   "outputs": [],
   "source": [
    "# Para imprimir os caracteres da tabela ASCII:\n",
    "\n",
    "for i in range(0, 255):\n",
    "    print(\"%c\" % i, end=\" \")\n",
    "    "
   ]
  },
  {
   "cell_type": "code",
   "execution_count": null,
   "metadata": {},
   "outputs": [],
   "source": [
    "#  Para imprimir os caracteres da tabela UTF (Unicode)\n",
    "print(u'\\u00ae')\n",
    "print(u'\\u0061')\n",
    "print(u'\\u00c7')"
   ]
  },
  {
   "cell_type": "code",
   "execution_count": null,
   "metadata": {},
   "outputs": [],
   "source": [
    "# Imprimir o valor ASCII/Unicode de um caractere- função ord():\n",
    "print(ord(\"a\")) # 97\n",
    "print(ord(\"A\")) # 65\n",
    "print(ord(\" \")) # 225"
   ]
  },
  {
   "cell_type": "code",
   "execution_count": null,
   "metadata": {},
   "outputs": [],
   "source": [
    "# Imprimir o caractere a partir de um valor ASCII/Unicode função chr():\n",
    "print(chr(97)) # a\n",
    "print(chr(65)) # A\n",
    "print(chr(225)) #"
   ]
  },
  {
   "cell_type": "markdown",
   "metadata": {},
   "source": [
    "# Exercícios Parte 1"
   ]
  },
  {
   "cell_type": "code",
   "execution_count": null,
   "metadata": {},
   "outputs": [],
   "source": [
    "\n",
    "# Exercício 01\n",
    "# Faça um programa que peça uma string para o usuário;\n",
    "# Imprima uma nova string substituindo as vogais minúsculas por\n",
    "# vogais. maiúsculas. \n",
    "\n",
    "escolha = input(\"Digite uma string: \")\n",
    "\n",
    "texto_convertido = \"\"\n",
    "for letra in escolha:\n",
    "    if escolha == \"a\":\n",
    "        texto_convertido = \"A\"\n",
    "    elif escolha == \"e\":\n",
    "        texto_convertido = \"E\"\n",
    "    elif escolha == \"i\":\n",
    "        texto_convertido = \"I\"\n",
    "    elif escolha == \"o\":\n",
    "        texto_convertido = \"O\"\n",
    "    elif escolha == \"u\":\n",
    "        texto_convertido = \"U\"\n",
    "\n",
    "print(f\"Texto convertido : {texto_convertido}\")"
   ]
  },
  {
   "cell_type": "code",
   "execution_count": null,
   "metadata": {},
   "outputs": [],
   "source": [
    "# Exercício 02\n",
    "# Peça ao usuário uma string1;\n",
    "# Imprima se essa string é um palíndromo ou não.\n",
    "# Palíndromo é uma palavra ou frase (normalmente, ignorando-se\n",
    "# os espaços em branco) que se pode ler, indiferentemente, da\n",
    "# esquerda para a direita ou vice-versa.\n",
    "# Exemplos: “ovo”, “a grama é amarga” maiúsculas.\n",
    "texto = input(\"Digite uma string: \")\n",
    "texto_convertido = \"\"\n",
    "for letra in texto:\n",
    "    if ord(letra) in range (97,123):\n",
    "        letra = chr(ord(letra) - 32)\n",
    "        texto_convertido += letra\n",
    "    elif ord(letra) in range(65,91):\n",
    "        texto_convertido += letra\n",
    "\n",
    "print(f\"Texto convertido: {texto_convertido}\")\n",
    "\n",
    "if texto_convertido == texto_convertido[::-1]:\n",
    "    print(\"A string é um palíndromo.\")\n",
    "else: \n",
    "    print(\"A string não é um palíndromo.\")"
   ]
  },
  {
   "cell_type": "markdown",
   "metadata": {},
   "source": [
    "# Teoria - Métodos em strings\n",
    "\n",
    "Existem muitos métodos próprios para serem utilizados com strings\n",
    "Alguns exemplos:\n",
    "- capitalize()\n",
    "- count()\n",
    "- find()\n",
    "- lower()\n",
    "- islower()\n",
    "- isdigit()\n",
    "- isalpha()\n",
    "- split()\n",
    "- strip()\n",
    "- replace()"
   ]
  },
  {
   "cell_type": "markdown",
   "metadata": {},
   "source": [
    "# Exercícios parte 2"
   ]
  },
  {
   "cell_type": "code",
   "execution_count": null,
   "metadata": {},
   "outputs": [],
   "source": [
    "# Exercício 03\n",
    "# Neste exercício, você criará um programa em Python que\n",
    "# identifica a(s) palavras(s) mais longa(s) em um arquivo.\n",
    "# Seu programa deve exibir uma mensagem que inclua o tamanho da\n",
    "# palavra mais longa, juntamente com todas as palavras desse\n",
    "# comprimento que ocorreram no arquivo. Desconsidere sinais de\n",
    "# pontuação."
   ]
  },
  {
   "cell_type": "code",
   "execution_count": null,
   "metadata": {},
   "outputs": [],
   "source": [
    "# Exercício 04\n",
    "# Escreva um programa que exiba a(s) palavra(s) que ocorrera(m)\n",
    "# com mais frequência em um arquivo e quantas vezes a(s)\n",
    "# palavra(s) aparece(m).\n",
    "# Seu programa deve começar lendo o nome do arquivo do usuário.\n",
    "# Em seguida, ele deve encontrar a(s) palavra(s) mais\n",
    "# frequente(s), ignorando letras maiúsculas ou minúsculas e a\n",
    "# pontuação.\n",
    "# Desta forma, por exemplo, as palavras apple, apple!, Apple,\n",
    "# APPLE e ApPlE devem todas ser contadas como uma única palavra."
   ]
  },
  {
   "cell_type": "code",
   "execution_count": null,
   "metadata": {},
   "outputs": [],
   "source": [
    "# Exercício 05\n",
    "# Pig Latin é uma língua construída pela transformação de\n",
    "# palavras da língua inglesa.\n",
    "# Regras usadas para traduzir do inglês para o Pig Latin:\n",
    "# 1) Se a palavra começar com consoante (incluindo y), todas as\n",
    "# letras no início da palavra, até a primeira vogal (excluindo y),\n",
    "# serão removidas e adicionadas ao final da palavra, seguidas de\n",
    "# ay.\n",
    "# Por exemplo:\n",
    "# computer se torna omputercay e think se torna inkthay.\n",
    "# 2) Se a palavra começar com uma vogal (não incluindo y), então way\n",
    "# é adicionado ao final da palavra.\n",
    "# Por exemplo:\n",
    "# o algorithm se torna algorithmway e office se torna officeway.\n",
    "# Escreva um programa que leia uma linha de texto do usuário.\n",
    "# Seu programa deve traduzir a linha para Pig Latin e exibir o\n",
    "# resultado.\n",
    "# Trate letras maiúsculas, minúsculas e pontuação.\n"
   ]
  },
  {
   "cell_type": "markdown",
   "metadata": {},
   "source": [
    "# Teoria - Módulos\n",
    "- Para o Python, Módulos são arquivos fonte que podem ser importados para um programa.\n",
    "- Podem conter qualquer estrutura do Python e são executados quando importados.\n",
    "- Um módulo é um arquivo .py que pode conter: Funções, Variáveis (Constantes) e Classes"
   ]
  },
  {
   "cell_type": "code",
   "execution_count": null,
   "metadata": {},
   "outputs": [],
   "source": [
    "# Importação absoluta:\n",
    "import math\n",
    "print(math.sqrt(9))"
   ]
  },
  {
   "cell_type": "code",
   "execution_count": null,
   "metadata": {},
   "outputs": [],
   "source": [
    "# Importação relativa:\n",
    "from math import sqrt\n",
    "print(sqrt(9))"
   ]
  },
  {
   "cell_type": "markdown",
   "metadata": {},
   "source": [
    "- Módulos são arquivos .py\n",
    "- Como garantimos que um programa principal não será importado em outro arquivo .py?\n",
    "- Utilizamos a variável especial __name__\n",
    "- __name__ indica o nome do contexto em que o módulo está sendo executado\n",
    "- Quando um módulo é diretamente executado, __name__ é definido como “__main__”\n",
    "- Quando o módulo é importado, __name__fica igual ao nome do módulo, ou seja,do arquivo.\n",
    "- Logo, podemos incluir uma condição para rodar nosso main:"
   ]
  },
  {
   "cell_type": "code",
   "execution_count": null,
   "metadata": {},
   "outputs": [],
   "source": [
    "def media(lista):\n",
    "    return sum(lista)/len(lista)\n",
    "\n",
    "def main():\n",
    "    l=[10, 15, 87, 14, 98, 41, 30, 36]\n",
    "    print(media(l))\n",
    "\n",
    "if __name__== \"__main__\":\n",
    "    main()"
   ]
  },
  {
   "cell_type": "markdown",
   "metadata": {},
   "source": [
    "# Teoria - Pacotes\n",
    "\n",
    "- De uma forma simples, um pacote é uma coleção de módulos.\n",
    "-  os módulos aumentam de tamanho, podemos dividí-los em pacotes\n",
    "- Módulos são estruturados em arquivos, enquanto que, pacotes são estruturados em pastas.\n",
    "- Todos os pacotes devem conter um arquivo `__init__.py`\n",
    "- Os arquivos `__init__.py` servem para que o interpretador possa identificar quais diretórios são pacotes e quais não são."
   ]
  },
  {
   "cell_type": "markdown",
   "metadata": {},
   "source": [
    "# Exercícios - Módulos e Pacotes"
   ]
  },
  {
   "cell_type": "code",
   "execution_count": null,
   "metadata": {},
   "outputs": [],
   "source": [
    "# Exercício 07\n",
    "# Neste exercício, você deve programar um módulo composto por 4\n",
    "# funções que, juntas, servirão para determinar se uma senha é\n",
    "# boa ou não. Uma boa senha deve ter:\n",
    "# ▶ Pelo menos 8 caracteres (1ª função)\n",
    "# ▶ Pelo menos uma letra maiúscula (2ª função)\n",
    "# ▶ Pelo menos uma letra minúscula (3ª função)\n",
    "# ▶ Pelo menos um número (4ª função)\n",
    "# Cada função deve retornar True ou False para a senha recebida.\n",
    "# Faça também um programa principal que leia uma senha do\n",
    "# usuário, chame cada função de verificação e relate se a senha\n",
    "# é boa ou não."
   ]
  },
  {
   "cell_type": "code",
   "execution_count": null,
   "metadata": {},
   "outputs": [],
   "source": [
    "# Exercício 08\n",
    "#  Muitas pessoas não usam letras maiúsculas corretamente,\n",
    "#  especialmente ao digitar em pequenos dispositivos como\n",
    "#  smartphones.\n",
    "#  Neste exercício, você escreverá um módulo composto por uma\n",
    "#  função que capitaliza os caracteres apropriados em uma string.\n",
    "#  O primeiro caractere da string deve ser sempre capitalizado,\n",
    "#  assim como o primeiro caractere após “.”, “!” ou “?”.\n",
    "#  Por exemplo, se a função for fornecida com a string:\n",
    "#  “que horas tenho que estar lá? qual é o endereço?”\n",
    "#  Então deve retornar a string:\n",
    "# “Que horas tenho que estar lá? Qual é o endereço?”"
   ]
  },
  {
   "cell_type": "markdown",
   "metadata": {},
   "source": [
    "# Teoria - Graphical User Interface (GUI)\n",
    "\n",
    "Interface Gráfica do Usuário\n",
    "Por que utilizar Interface Gráfica do Usuário?\n",
    "Foco no usuário final:\n",
    "\n",
    "- Mais amigável\n",
    "- Interação mais rápida\n",
    "- Mais produtiva\n",
    "\n",
    "Alguns frameworks em Python são:\n",
    "\n",
    "- Tkinter (Tk interface)\n",
    "  - Toolkit padrão do Python para desenvolvimento de GUI. Ele pode ou não vir instalado por padrão.\n",
    "- PyQt\n",
    "- wxPython\n",
    "\n",
    "Vamos usar o Tkinter:\n",
    "\n",
    "- O Tkinter é um pacote interessante que já vem por padrão com o\n",
    "  Python.\n",
    "- Para usar o Tkinter, só precisamos importá-lo: `from tkinter import *`\n",
    "- O Tkinter permite a criação de janelas, rótulos, botões, caixas de texto, caixas de mensagem etc.\n"
   ]
  },
  {
   "cell_type": "code",
   "execution_count": null,
   "metadata": {},
   "outputs": [],
   "source": [
    "from tkinter import *\n",
    "\n",
    "# criaa janela\n",
    "janela = Tk()\n",
    "\n",
    "# tituloparaajanela\n",
    "janela.title(\"Algoritmos\")\n",
    "\n",
    "# configuraotamanhodajanela\n",
    "janela.geometry(\"400x400\")\n",
    "\n",
    "# chamaafuncaomainloop:\n",
    "# loopinfinitoparamanterajanelaaberta\n",
    "janela.mainloop()"
   ]
  },
  {
   "cell_type": "code",
   "execution_count": null,
   "metadata": {},
   "outputs": [],
   "source": [
    "from tkinter import *\n",
    "\n",
    "janela = Tk()\n",
    "janela.title(\"Algoritmos\")\n",
    "janela.geometry(\"400x400\")\n",
    "\n",
    "# cria um rotulo na janela, adiciona um texto e configura fonte\n",
    "rotulo = Label(janela, text=\"Fundamentos de algoritmos\", font=(\"Arial Bold\", 20))\n",
    "\n",
    "# configura onde a label vai aparecer na janela\n",
    "rotulo.place(x=200, y=100, anchor=\"center\")\n",
    "\n",
    "janela.mainloop()"
   ]
  },
  {
   "cell_type": "markdown",
   "metadata": {},
   "source": [
    "O place permite que os elementos sejam explicitamente posicionados de forma absoluta ou relativa\n",
    "Sintaxe:\n",
    "\n",
    "- Posicionando o elemento w de forma relativa:\n",
    "  - `w.place(relx=0.5, rely=0.5, anchor=CENTER)`\n",
    "- Posicionando o elemento w de forma absoluta:\n",
    "  - `w.place(x=50, y=100, anchor=CENTER)`\n",
    "\n",
    "O anchor refere-se ao elemento que está sendo posicionado\n",
    "Pode assumir os valores (referências cardeais):\n",
    "\n",
    "- NW(default),N,NE,E,SE,S,SW,W,CENTER\n",
    "\n",
    "Sendo:\n",
    "\n",
    "- NW - North West - Noroeste\n",
    "- N - North - Norte\n",
    "- NE - North East - Nordeste\n",
    "- E - East - Leste\n",
    "- SE - South East - Sudeste\n",
    "- S - South - Sul\n",
    "- SW - South West - Sudoeste\n",
    "- W - West - Oeste\n"
   ]
  },
  {
   "cell_type": "code",
   "execution_count": null,
   "metadata": {},
   "outputs": [],
   "source": [
    "from tkinter import *\n",
    "\n",
    "window = Tk() # cria a janela\n",
    "\n",
    "window.title(\"Novatela\") # titulo da janela\n",
    " \n",
    "window.geometry(\"350x200\") # tamanho da janela (largura x altura)\n",
    "\n",
    "btn1 = Button(window, text=\"Boto 1\") # cria um botao com o texto \"Botao 1\"\n",
    "btn1.place(relx=0.5, rely=0.5, anchor=CENTER) # posiciona o botao no centro da janela (relx=0.5, rely=0.5)\n",
    "\n",
    "btn2 = Button(window, text=\"Boto 2\") # cria um botao com o texto \"Botao 2\"\n",
    "btn2.place(x=100, y=50, anchor=CENTER) # posiciona o botao na posicao x=100, y=50\n",
    "\n",
    "window.mainloop()"
   ]
  },
  {
   "cell_type": "code",
   "execution_count": null,
   "metadata": {},
   "outputs": [],
   "source": [
    "from tkinter import *\n",
    "\n",
    "janela = Tk()\n",
    "janela.title(\"Algoritmos\")\n",
    "janela.geometry(\"400x400\")\n",
    "\n",
    "rotulo = Label(janela, text=\"HelloGUI!\", font=(\"ArialBold\", 14))\n",
    "rotulo.place(x=200, y=100, anchor=CENTER)\n",
    "\n",
    "# criao botaonajanelacomotextodesejado\n",
    "botao = Button(janela, text=\"Clique aqui!\")\n",
    "\n",
    "# configuraondeobotaovaoaparecernajanela\n",
    "botao.place(x=200, y=200, anchor=CENTER)\n",
    "\n",
    "janela.mainloop()"
   ]
  },
  {
   "cell_type": "code",
   "execution_count": null,
   "metadata": {},
   "outputs": [],
   "source": [
    "# O botão criado anteriormente não tem utilizade!\n",
    "# Normalmente o clique de um botão é associado a chamada de uma\n",
    "# função\n",
    "\n",
    "# contonuandooexemploanterior\n",
    "\n",
    "from tkinter import *\n",
    "\n",
    "janela = Tk()\n",
    "janela.title(\"Algoritmos\")\n",
    "janela.geometry(\"400x400\")\n",
    "\n",
    "# criacao de um rotulo na janela, adiciona um texto e configura fonte\n",
    "rotulo = Label(janela, text=\"Hello GUI!\", font=(\"ArialBold\", 14))\n",
    "rotulo.place(x=200, y=100, anchor=CENTER) # configura onde o rotulo vai aparecer na janela\n",
    "\n",
    "\n",
    "# definicaonafuncaoclique()\n",
    "def clique():\n",
    "    # modifica o texto do rotulo\n",
    "    rotulo.config(text=\"Botao clicado!\")\n",
    "\n",
    "\n",
    "# cria o botao na janela com o texto desejado e associa a funcao clique\n",
    "botao = Button(janela, text=\"Clique aqui!\", command=clique)\n",
    "# configura onde o botao vai aparecer na janela\n",
    "botao.place(x=200, y=200, anchor=CENTER)\n",
    "\n",
    "janela.mainloop()"
   ]
  },
  {
   "cell_type": "code",
   "execution_count": null,
   "metadata": {},
   "outputs": [],
   "source": [
    "from tkinter import *\n",
    "\n",
    "janela = Tk()\n",
    "janela.title(\"Algoritmos\")\n",
    "janela.geometry(\"400x400\")\n",
    "\n",
    "# criacao de um rotulo na janela, adiciona um texto e configura fonte\n",
    "rotulo = Label(janela, text=\"Hello GUI!\", font=(\"ArialBold\", 14))\n",
    "rotulo.place(x=200, y=100, anchor=CENTER) # configura onde o rotulo vai aparecer na janela\n",
    "\n",
    "# cria uma entrada de texto na janela e configura a fonte\n",
    "entrada = Entry(janela,width=14,font=(\"ArialBold\",14))\n",
    "entrada.place(x=200,y=50,anchor=CENTER)\n",
    "\n",
    "# definicao da funcao clique()\n",
    "def clique():\n",
    "    # obtem o texto digitado na entrada de texto e modifica o texto do rotulo\n",
    "    resposta=entrada.get()\n",
    "    rotulo.config(text=resposta)\n",
    "\n",
    "botao= Button(janela,text=\"Clique aqui!\",command=clique)\n",
    "botao.place(x=200,y=200,anchor=CENTER)\n",
    "\n",
    "janela.mainloop()"
   ]
  },
  {
   "cell_type": "code",
   "execution_count": null,
   "metadata": {},
   "outputs": [],
   "source": [
    "# Para caixas de mensagem usamos a função messagebox.showinfo()\n",
    "\n",
    "from tkinter import *\n",
    "from tkinter import messagebox\n",
    "\n",
    "janela = Tk()\n",
    "janela.title(\"Algoritmos\")\n",
    "janela.geometry(\"400x400\")\n",
    "\n",
    "# criacao de um rotulo na janela, adiciona um texto e configura fonte\n",
    "rotulo = Label(janela, text=\"Hello GUI!\", font=(\"ArialBold\", 14))\n",
    "rotulo.place(x=200, y=100, anchor=CENTER) # configura onde o rotulo vai aparecer na janela\n",
    "\n",
    "# cria uma entrada de texto na janela e configura a fonte\n",
    "entrada = Entry(janela,width=14,font=(\"ArialBold\",14))\n",
    "entrada.place(x=200,y=50,anchor=CENTER)\n",
    "\n",
    "# definicao da funcao clique()\n",
    "def clique():\n",
    "    # obtem o texto digitado na entrada de texto e modifica o texto do rotulo\n",
    "    resposta=entrada.get()\n",
    "    rotulo.config(text=resposta)\n",
    "\n",
    "# cria o botao na janela com o texto desejado e associa a funcao clique\n",
    "botao= Button(janela,text=\"Clique aqui!\",command=clique)\n",
    "# configura onde o botao vai aparecer na janela\n",
    "botao.place(x=200,y=200,anchor=CENTER)\n",
    "\n",
    "def show(): \n",
    "    # exibe uma caixa de mensagem com o texto \"O botão foi clicado!\" \n",
    "    res=messagebox.showinfo('Aviso','O botão foi clicado!')\n",
    "    print(res)\n",
    "    \n",
    "# cria um botão na janela com o texto \"Aviso\" e associa a função show\n",
    "botao2=Button(janela,text=\"Aviso\",command=show)\n",
    "botao2.place(x=200,y=300,anchor=CENTER)\n",
    "\n",
    "botao2=Button(janela,text=\"Botão\",command=show)\n",
    "\n",
    "janela.mainloop()"
   ]
  },
  {
   "cell_type": "code",
   "execution_count": null,
   "metadata": {},
   "outputs": [],
   "source": [
    "# Para caixas de mensagem com perguntas usamos a função messagebox.askquestion()\n",
    "\n",
    "from tkinter import *\n",
    "from tkinter import messagebox\n",
    "\n",
    "janela = Tk()\n",
    "janela.title(\"Algoritmos\")\n",
    "janela.geometry(\"400x400\")\n",
    "\n",
    "# criacao de um rotulo na janela, adiciona um texto e configura fonte\n",
    "rotulo = Label(janela, text=\"Hello GUI!\", font=(\"ArialBold\", 14))\n",
    "rotulo.place(x=200, y=100, anchor=CENTER) # configura onde o rotulo vai aparecer na janela\n",
    "\n",
    "# cria uma entrada de texto na janela e configura a fonte\n",
    "entrada = Entry(janela,width=14,font=(\"ArialBold\",14))\n",
    "entrada.place(x=200,y=50,anchor=CENTER)\n",
    "\n",
    "# definicao da funcao clique()\n",
    "def clique():\n",
    "    # obtem o texto digitado na entrada de texto e modifica o texto do rotulo\n",
    "    resposta=entrada.get()\n",
    "    rotulo.config(text=resposta)\n",
    "    \n",
    "# cria o botao na janela com o texto desejado e associa a funcao clique\n",
    "botao= Button(janela,text=\"Clique aqui!\",command=clique)\n",
    "# configura onde o botao vai aparecer na janela\n",
    "botao.place(x=200,y=200,anchor=CENTER)\n",
    "\n",
    "def show():\n",
    "    # exibe uma caixa de mensagem com a pergunta \"O botão foi clicado?\"\n",
    "    res=messagebox.askquestion('Aviso','O botão foi clicado?',icon='warning', default='yes')\n",
    "    print(res)\n",
    "    \n",
    "# cria um botão na janela com o texto \"Aviso\" e associa a função show\n",
    "botao2=Button(janela,text=\"Pergunta\",command=show)\n",
    "botao2.place(x=200,y=300,anchor=CENTER)\n",
    "\n",
    "janela.mainloop()\n"
   ]
  }
 ],
 "metadata": {
  "kernelspec": {
   "display_name": "base",
   "language": "python",
   "name": "python3"
  },
  "language_info": {
   "codemirror_mode": {
    "name": "ipython",
    "version": 3
   },
   "file_extension": ".py",
   "mimetype": "text/x-python",
   "name": "python",
   "nbconvert_exporter": "python",
   "pygments_lexer": "ipython3",
   "version": "3.12.7"
  }
 },
 "nbformat": 4,
 "nbformat_minor": 2
}
